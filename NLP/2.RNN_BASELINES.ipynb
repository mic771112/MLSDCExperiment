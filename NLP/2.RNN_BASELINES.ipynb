{
 "cells": [
  {
   "cell_type": "code",
   "execution_count": 8,
   "metadata": {},
   "outputs": [],
   "source": [
    "import sklearn\n",
    "import pandas as pd\n",
    "import numpy as np\n",
    "\n",
    "from tensorflow import keras\n",
    "from tensorflow.keras.preprocessing import text, sequence\n",
    "from tensorflow.keras.regularizers import l2"
   ]
  },
  {
   "cell_type": "code",
   "execution_count": 9,
   "metadata": {},
   "outputs": [],
   "source": [
    "COMMENT = 'comment_text'\n",
    "LABELS = ['toxic', 'severe_toxic', 'obscene', 'threat', 'insult', 'identity_hate']"
   ]
  },
  {
   "cell_type": "code",
   "execution_count": 10,
   "metadata": {},
   "outputs": [],
   "source": [
    "base_path = 'jigsaw-toxic-comment-classification-challenge'\n",
    "train = pd.read_csv(f'{base_path}/train.csv')\n",
    "test = pd.read_csv(f'{base_path}/test.csv')\n",
    "submission = pd.read_csv(f'{base_path}/sample_submission.csv')\n",
    "test_labels = pd.read_csv(f'{base_path}/test_labels.csv')"
   ]
  },
  {
   "cell_type": "code",
   "execution_count": null,
   "metadata": {},
   "outputs": [],
   "source": []
  },
  {
   "cell_type": "markdown",
   "metadata": {},
   "source": [
    "# Problem understanding"
   ]
  },
  {
   "cell_type": "markdown",
   "metadata": {},
   "source": [
    "# Dataset generation"
   ]
  },
  {
   "cell_type": "markdown",
   "metadata": {},
   "source": [
    "# Metrics define"
   ]
  },
  {
   "cell_type": "markdown",
   "metadata": {},
   "source": [
    "# Validation strategy"
   ]
  },
  {
   "cell_type": "markdown",
   "metadata": {},
   "source": [
    "# Data processing (extract useful information)"
   ]
  },
  {
   "cell_type": "code",
   "execution_count": 11,
   "metadata": {},
   "outputs": [],
   "source": [
    "MAX_TOKENS = 30000\n",
    "MAX_SENTENSE_LEN = 100\n",
    "EMBEDDING_SIZE = 300"
   ]
  },
  {
   "cell_type": "code",
   "execution_count": 12,
   "metadata": {},
   "outputs": [],
   "source": [
    "x_train = train[\"comment_text\"].values\n",
    "y_train = train[LABELS].values\n",
    "x_test = test[\"comment_text\"].values\n",
    "\n",
    "tokenizer = text.Tokenizer(num_words=MAX_TOKENS)\n",
    "tokenizer.fit_on_texts(list(x_train) + list(x_test)) # is it a proper trick?\n",
    "\n",
    "x_train, x_test = map(tokenizer.texts_to_sequences, [x_train, x_test])\n",
    "x_train, x_test = map(lambda x: sequence.pad_sequences(x, maxlen=MAX_SENTENSE_LEN), [x_train, x_test])\n"
   ]
  },
  {
   "cell_type": "markdown",
   "metadata": {},
   "source": [
    "# Data understanding & visualization"
   ]
  },
  {
   "cell_type": "markdown",
   "metadata": {},
   "source": [
    "# De-noise (no drop data)"
   ]
  },
  {
   "cell_type": "markdown",
   "metadata": {},
   "source": [
    "# Feature engineering"
   ]
  },
  {
   "cell_type": "markdown",
   "metadata": {},
   "source": [
    "# Offline augmentation"
   ]
  },
  {
   "cell_type": "markdown",
   "metadata": {},
   "source": [
    "# Standarization"
   ]
  },
  {
   "cell_type": "markdown",
   "metadata": {},
   "source": [
    "# Scaling"
   ]
  },
  {
   "cell_type": "markdown",
   "metadata": {},
   "source": [
    "# Normalization"
   ]
  },
  {
   "cell_type": "markdown",
   "metadata": {},
   "source": [
    "# Feature selection"
   ]
  },
  {
   "cell_type": "markdown",
   "metadata": {},
   "source": [
    "# Data selection"
   ]
  },
  {
   "cell_type": "markdown",
   "metadata": {},
   "source": [
    "# Optimization"
   ]
  },
  {
   "cell_type": "code",
   "execution_count": 13,
   "metadata": {},
   "outputs": [],
   "source": [
    "model_input = keras.Input(shape=(MAX_SENTENSE_LEN, ))\n",
    "x = keras.layers.Embedding(MAX_TOKENS, EMBEDDING_SIZE, mask_zero=True, embeddings_regularizer=l2(1e-5))(model_input)\n",
    "x = keras.layers.SpatialDropout1D(0.2)(x)\n",
    "x = keras.layers.GRU(64, return_sequences=True, activation=\"relu\", kernel_regularizer=l2(1e-5))(x)\n",
    "x = keras.layers.SpatialDropout1D(0.2)(x)\n",
    "x = keras.layers.GRU(32, return_sequences=False, activation=\"relu\", kernel_regularizer=l2(1e-5))(x)\n",
    "x = keras.layers.Dropout(0.2)(x)\n",
    "x = keras.layers.Dense(32, activation=\"relu\")(x)\n",
    "model_output = keras.layers.Dense(len(LABELS), activation=\"sigmoid\")(x)\n",
    "\n",
    "model = keras.Model(inputs=model_input, outputs=model_output)\n",
    "model.compile(keras.optimizers.Adam(3e-4), loss='binary_crossentropy', metrics=['acc'])"
   ]
  },
  {
   "cell_type": "code",
   "execution_count": 14,
   "metadata": {},
   "outputs": [
    {
     "name": "stdout",
     "output_type": "stream",
     "text": [
      "Epoch 1/5\n"
     ]
    },
    {
     "name": "stderr",
     "output_type": "stream",
     "text": [
      "/home/shanger_lin/.pyenv/versions/3.6.4/lib/python3.6/site-packages/tensorflow/python/framework/indexed_slices.py:432: UserWarning: Converting sparse IndexedSlices to a dense Tensor of unknown shape. This may consume a large amount of memory.\n",
      "  \"Converting sparse IndexedSlices to a dense Tensor of unknown shape. \"\n"
     ]
    },
    {
     "name": "stdout",
     "output_type": "stream",
     "text": [
      "593/593 [==============================] - 236s 398ms/step - loss: 0.1741 - acc: 0.6977 - val_loss: 0.0718 - val_acc: 0.9939\n",
      "Epoch 2/5\n",
      "593/593 [==============================] - 234s 395ms/step - loss: 0.0657 - acc: 0.9571 - val_loss: 0.0619 - val_acc: 0.9952\n",
      "Epoch 3/5\n",
      "593/593 [==============================] - 235s 396ms/step - loss: 0.0583 - acc: 0.9774 - val_loss: 0.0587 - val_acc: 0.9952\n",
      "Epoch 4/5\n",
      "593/593 [==============================] - 237s 399ms/step - loss: 0.0548 - acc: 0.9808 - val_loss: 0.0577 - val_acc: 0.9952\n",
      "Epoch 5/5\n",
      "593/593 [==============================] - 236s 399ms/step - loss: 0.0527 - acc: 0.9825 - val_loss: 0.0575 - val_acc: 0.9952\n"
     ]
    }
   ],
   "source": [
    "hist = model.fit(x_train, \n",
    "                 y_train, \n",
    "                 batch_size=256,\n",
    "                 shuffle=True,\n",
    "                 epochs=5, \n",
    "                 validation_split=0.05,\n",
    "                 callbacks=[keras.callbacks.EarlyStopping(monitor='val_loss',\n",
    "                                                          patience=1, \n",
    "                                                          verbose=1)], \n",
    "                 verbose=1)"
   ]
  },
  {
   "cell_type": "code",
   "execution_count": null,
   "metadata": {},
   "outputs": [],
   "source": [
    "y_pred = model.predict(x_test)\n",
    "submission[LABELS] = y_pred\n",
    "submission.to_csv('submission.csv', index=False)\n",
    "\n",
    "# ~ 95.63%"
   ]
  },
  {
   "cell_type": "markdown",
   "metadata": {},
   "source": [
    "# Parameter tuning"
   ]
  },
  {
   "cell_type": "markdown",
   "metadata": {},
   "source": [
    "# Online augmentation"
   ]
  },
  {
   "cell_type": "markdown",
   "metadata": {},
   "source": [
    "# Model selection / blending"
   ]
  },
  {
   "cell_type": "markdown",
   "metadata": {},
   "source": [
    "# Post-processing"
   ]
  },
  {
   "cell_type": "markdown",
   "metadata": {},
   "source": [
    "# Evaluation"
   ]
  },
  {
   "cell_type": "markdown",
   "metadata": {},
   "source": [
    "# Reasoning"
   ]
  },
  {
   "cell_type": "markdown",
   "metadata": {},
   "source": [
    "# Monitoring"
   ]
  },
  {
   "cell_type": "code",
   "execution_count": null,
   "metadata": {},
   "outputs": [],
   "source": []
  }
 ],
 "metadata": {
  "kernelspec": {
   "display_name": "Python 3",
   "language": "python",
   "name": "python3"
  },
  "language_info": {
   "codemirror_mode": {
    "name": "ipython",
    "version": 3
   },
   "file_extension": ".py",
   "mimetype": "text/x-python",
   "name": "python",
   "nbconvert_exporter": "python",
   "pygments_lexer": "ipython3",
   "version": "3.6.4"
  }
 },
 "nbformat": 4,
 "nbformat_minor": 4
}
