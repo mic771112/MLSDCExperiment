{
 "cells": [
  {
   "cell_type": "code",
   "execution_count": 17,
   "metadata": {},
   "outputs": [
    {
     "data": {
      "text/plain": [
       "14"
      ]
     },
     "execution_count": 17,
     "metadata": {},
     "output_type": "execute_result"
    }
   ],
   "source": [
    "14"
   ]
  },
  {
   "cell_type": "code",
   "execution_count": 2,
   "metadata": {},
   "outputs": [],
   "source": [
    "# !wget --quiet https://raw.githubusercontent.com/tensorflow/models/master/official/nlp/bert/tokenization.py"
   ]
  },
  {
   "cell_type": "code",
   "execution_count": 3,
   "metadata": {},
   "outputs": [],
   "source": [
    "import numpy as np\n",
    "import pandas as pd\n",
    "import tensorflow as tf\n",
    "from tensorflow.keras.layers import Dense, Input\n",
    "from tensorflow.keras.optimizers import Adam\n",
    "from tensorflow.keras.models import Model\n",
    "from tensorflow.keras.callbacks import ModelCheckpoint\n",
    "import tensorflow_hub as hub\n",
    "\n",
    "import tokenization"
   ]
  },
  {
   "cell_type": "code",
   "execution_count": 4,
   "metadata": {},
   "outputs": [],
   "source": [
    "def bert_encode(texts, tokenizer, max_len=512):\n",
    "    all_tokens = []\n",
    "    all_masks = []\n",
    "    all_segments = []\n",
    "    \n",
    "    for text in texts:\n",
    "        text = tokenizer.tokenize(text)\n",
    "            \n",
    "        text = text[:max_len-2]\n",
    "        input_sequence = [\"[CLS]\"] + text + [\"[SEP]\"]\n",
    "        pad_len = max_len - len(input_sequence)\n",
    "        \n",
    "        tokens = tokenizer.convert_tokens_to_ids(input_sequence)\n",
    "        tokens += [0] * pad_len\n",
    "        pad_masks = [1] * len(input_sequence) + [0] * pad_len\n",
    "        segment_ids = [0] * max_len\n",
    "        \n",
    "        all_tokens.append(tokens)\n",
    "        all_masks.append(pad_masks)\n",
    "        all_segments.append(segment_ids)\n",
    "    \n",
    "    return np.array(all_tokens), np.array(all_masks), np.array(all_segments)"
   ]
  },
  {
   "cell_type": "code",
   "execution_count": 6,
   "metadata": {},
   "outputs": [],
   "source": [
    "module_url = \"https://tfhub.dev/tensorflow/bert_en_uncased_L-24_H-1024_A-16/1\"\n",
    "bert_layer = hub.KerasLayer(module_url, trainable=False)\n",
    "\n",
    "vocab_file = bert_layer.resolved_object.vocab_file.asset_path.numpy()\n",
    "do_lower_case = bert_layer.resolved_object.do_lower_case.numpy()\n",
    "tokenizer = tokenization.FullTokenizer(vocab_file, do_lower_case)"
   ]
  },
  {
   "cell_type": "code",
   "execution_count": null,
   "metadata": {},
   "outputs": [],
   "source": []
  },
  {
   "cell_type": "code",
   "execution_count": 7,
   "metadata": {},
   "outputs": [],
   "source": [
    "import sklearn\n",
    "import pandas as pd\n",
    "import numpy as np\n",
    "from gensim.models import KeyedVectors\n",
    "\n",
    "from tensorflow import keras\n",
    "from tensorflow.keras.preprocessing import text, sequence\n",
    "from tensorflow.keras.regularizers import l2"
   ]
  },
  {
   "cell_type": "code",
   "execution_count": 8,
   "metadata": {},
   "outputs": [],
   "source": [
    "COMMENT = 'comment_text'\n",
    "LABELS = ['toxic', 'severe_toxic', 'obscene', 'threat', 'insult', 'identity_hate']"
   ]
  },
  {
   "cell_type": "code",
   "execution_count": 9,
   "metadata": {},
   "outputs": [],
   "source": [
    "base_path = 'jigsaw-toxic-comment-classification-challenge'\n",
    "train = pd.read_csv(f'{base_path}/train.csv')\n",
    "test = pd.read_csv(f'{base_path}/test.csv')\n",
    "submission = pd.read_csv(f'{base_path}/sample_submission.csv')\n",
    "test_labels = pd.read_csv(f'{base_path}/test_labels.csv')"
   ]
  },
  {
   "cell_type": "code",
   "execution_count": 10,
   "metadata": {},
   "outputs": [],
   "source": [
    "train_input = bert_encode(train[COMMENT].values, tokenizer, max_len=100)\n",
    "test_input = bert_encode(test[COMMENT].values, tokenizer, max_len=100)"
   ]
  },
  {
   "cell_type": "code",
   "execution_count": 11,
   "metadata": {},
   "outputs": [],
   "source": [
    "train_output = train[LABELS].values"
   ]
  },
  {
   "cell_type": "markdown",
   "metadata": {},
   "source": [
    "# Problem understanding"
   ]
  },
  {
   "cell_type": "markdown",
   "metadata": {},
   "source": [
    "# Dataset generation"
   ]
  },
  {
   "cell_type": "markdown",
   "metadata": {},
   "source": [
    "# Metrics define"
   ]
  },
  {
   "cell_type": "markdown",
   "metadata": {},
   "source": [
    "# Validation strategy"
   ]
  },
  {
   "cell_type": "markdown",
   "metadata": {},
   "source": [
    "# Data processing (extract useful information)"
   ]
  },
  {
   "cell_type": "code",
   "execution_count": 12,
   "metadata": {},
   "outputs": [],
   "source": [
    "def build_model(bert_layer, max_len=512):\n",
    "    input_word_ids = Input(shape=(max_len,), dtype=tf.int32, name=\"input_word_ids\")\n",
    "    input_mask = Input(shape=(max_len,), dtype=tf.int32, name=\"input_mask\")\n",
    "    segment_ids = Input(shape=(max_len,), dtype=tf.int32, name=\"segment_ids\")\n",
    "\n",
    "    _, sequence_output = bert_layer([input_word_ids, input_mask, segment_ids])\n",
    "    clf_output = sequence_output[:, 0, :]\n",
    "    out = Dense(len(LABELS), activation='sigmoid')(clf_output)\n",
    "    \n",
    "    model = Model(inputs=[input_word_ids, input_mask, segment_ids], outputs=out)\n",
    "    model.compile(Adam(lr=3e-4), loss='binary_crossentropy', metrics=['acc'])\n",
    "\n",
    "    return model"
   ]
  },
  {
   "cell_type": "code",
   "execution_count": 13,
   "metadata": {},
   "outputs": [
    {
     "name": "stdout",
     "output_type": "stream",
     "text": [
      "Model: \"functional_1\"\n",
      "__________________________________________________________________________________________________\n",
      "Layer (type)                    Output Shape         Param #     Connected to                     \n",
      "==================================================================================================\n",
      "input_word_ids (InputLayer)     [(None, 100)]        0                                            \n",
      "__________________________________________________________________________________________________\n",
      "input_mask (InputLayer)         [(None, 100)]        0                                            \n",
      "__________________________________________________________________________________________________\n",
      "segment_ids (InputLayer)        [(None, 100)]        0                                            \n",
      "__________________________________________________________________________________________________\n",
      "keras_layer (KerasLayer)        [(None, 1024), (None 335141889   input_word_ids[0][0]             \n",
      "                                                                 input_mask[0][0]                 \n",
      "                                                                 segment_ids[0][0]                \n",
      "__________________________________________________________________________________________________\n",
      "tf_op_layer_strided_slice (Tens [(None, 1024)]       0           keras_layer[0][1]                \n",
      "__________________________________________________________________________________________________\n",
      "dense (Dense)                   (None, 6)            6150        tf_op_layer_strided_slice[0][0]  \n",
      "==================================================================================================\n",
      "Total params: 335,148,039\n",
      "Trainable params: 6,150\n",
      "Non-trainable params: 335,141,889\n",
      "__________________________________________________________________________________________________\n"
     ]
    }
   ],
   "source": [
    "model = build_model(bert_layer, max_len=100)\n",
    "model.summary()"
   ]
  },
  {
   "cell_type": "code",
   "execution_count": 14,
   "metadata": {},
   "outputs": [],
   "source": [
    "checkpoint = ModelCheckpoint('bert_model.h5', monitor='val_loss', save_best_only=True)\n",
    "earlystop = keras.callbacks.EarlyStopping(monitor='val_loss', patience=1,  verbose=1)"
   ]
  },
  {
   "cell_type": "code",
   "execution_count": null,
   "metadata": {},
   "outputs": [
    {
     "name": "stdout",
     "output_type": "stream",
     "text": [
      "Epoch 1/100\n",
      "162/593 [=======>......................] - ETA: 9:01:12 - loss: 0.1784 - acc: 0.6048"
     ]
    }
   ],
   "source": [
    "hist = model.fit(\n",
    "    train_input, \n",
    "    train_output,\n",
    "    validation_split=0.05,\n",
    "    epochs=100,\n",
    "    shuffle=True,\n",
    "    callbacks=[checkpoint, earlystop],\n",
    "    batch_size=256,\n",
    "    verbose=1\n",
    ")"
   ]
  },
  {
   "cell_type": "code",
   "execution_count": null,
   "metadata": {},
   "outputs": [],
   "source": []
  },
  {
   "cell_type": "code",
   "execution_count": 21,
   "metadata": {},
   "outputs": [],
   "source": [
    "import matplotlib.pyplot as plt"
   ]
  },
  {
   "cell_type": "code",
   "execution_count": 22,
   "metadata": {},
   "outputs": [],
   "source": [
    "history = hist"
   ]
  },
  {
   "cell_type": "code",
   "execution_count": 26,
   "metadata": {},
   "outputs": [
    {
     "name": "stdout",
     "output_type": "stream",
     "text": [
      "dict_keys(['loss', 'acc', 'val_loss', 'val_acc'])\n"
     ]
    },
    {
     "data": {
      "image/png": "[encoded data removed]",
      "text/plain": [
       "<Figure size 432x288 with 1 Axes>"
      ]
     },
     "metadata": {},
     "output_type": "display_data"
    },
    {
     "data": {
      "image/png": "[encoded data removed]",
      "text/plain": [
       "<Figure size 432x288 with 1 Axes>"
      ]
     },
     "metadata": {},
     "output_type": "display_data"
    }
   ],
   "source": [
    "print(history.history.keys())\n",
    "# summarize history for accuracy\n",
    "plt.plot(history.history['acc'])\n",
    "plt.plot(history.history['val_acc'])\n",
    "plt.title('model acc')\n",
    "plt.ylabel('acc')\n",
    "plt.xlabel('epoch')\n",
    "plt.legend(['train', 'test'], loc='upper left')\n",
    "plt.show()\n",
    "# summarize history for loss\n",
    "plt.plot(history.history['loss'])\n",
    "plt.plot(history.history['val_loss'])\n",
    "plt.title('model loss')\n",
    "plt.ylabel('loss')\n",
    "plt.xlabel('epoch')\n",
    "plt.legend(['train', 'test'], loc='upper left')\n",
    "plt.show()"
   ]
  },
  {
   "cell_type": "code",
   "execution_count": null,
   "metadata": {},
   "outputs": [],
   "source": []
  },
  {
   "cell_type": "code",
   "execution_count": null,
   "metadata": {},
   "outputs": [],
   "source": []
  },
  {
   "cell_type": "code",
   "execution_count": null,
   "metadata": {},
   "outputs": [],
   "source": []
  },
  {
   "cell_type": "code",
   "execution_count": 15,
   "metadata": {},
   "outputs": [],
   "source": [
    "# x_train = train[COMMENT].values\n",
    "# x_test = test[COMMENT].values"
   ]
  },
  {
   "cell_type": "code",
   "execution_count": 16,
   "metadata": {},
   "outputs": [],
   "source": [
    "MAX_TOKENS = 30000\n",
    "MAX_SENTENSE_LEN = 100\n",
    "EMBEDDING_SIZE_1 = all_embs_1.shape[1]\n",
    "EMBEDDING_SIZE_2 = all_embs_2.shape[1]\n",
    "EMBEDDING_SIZE = EMBEDDING_SIZE_1 + EMBEDDING_SIZE_2"
   ]
  },
  {
   "cell_type": "code",
   "execution_count": 17,
   "metadata": {},
   "outputs": [],
   "source": [
    "x_train = train[\"comment_text\"].values\n",
    "y_train = train[LABELS].values\n",
    "x_test = test[\"comment_text\"].values\n",
    "\n",
    "tokenizer = text.Tokenizer(num_words=MAX_TOKENS)\n",
    "tokenizer.fit_on_texts(list(x_train) + list(x_test)) # is it a proper trick?\n",
    "\n",
    "x_train, x_test = map(tokenizer.texts_to_sequences, [x_train, x_test])\n",
    "x_train, x_test = map(lambda x: sequence.pad_sequences(x, maxlen=MAX_SENTENSE_LEN), [x_train, x_test])\n"
   ]
  },
  {
   "cell_type": "code",
   "execution_count": 18,
   "metadata": {},
   "outputs": [],
   "source": [
    "word_index = tokenizer.word_index\n",
    "nb_words = min(MAX_TOKENS, len(word_index))\n",
    "embedding_matrix_1 = np.random.normal(emb_mean_1, emb_std_1, (nb_words, EMBEDDING_SIZE_1))\n",
    "embedding_matrix_2 = np.random.normal(emb_mean_2, emb_std_2, (nb_words, EMBEDDING_SIZE_2))\n",
    "for word, i in word_index.items():\n",
    "    if i >= MAX_TOKENS: continue\n",
    "\n",
    "    embedding_vector_1 = embeddings_index_1.get(word)\n",
    "    if embedding_vector_1 is not None: \n",
    "        embedding_matrix_1[i] = embedding_vector_1\n",
    "        \n",
    "    embedding_vector_2 = embeddings_index_2.get(word)\n",
    "    if embedding_vector_2 is not None: \n",
    "        embedding_matrix_2[i] = embedding_vector_2"
   ]
  },
  {
   "cell_type": "code",
   "execution_count": 19,
   "metadata": {},
   "outputs": [
    {
     "data": {
      "text/plain": [
       "(30000, 300)"
      ]
     },
     "execution_count": 19,
     "metadata": {},
     "output_type": "execute_result"
    }
   ],
   "source": [
    "embedding_matrix_1.shape"
   ]
  },
  {
   "cell_type": "code",
   "execution_count": 20,
   "metadata": {},
   "outputs": [
    {
     "data": {
      "text/plain": [
       "(30000, 300)"
      ]
     },
     "execution_count": 20,
     "metadata": {},
     "output_type": "execute_result"
    }
   ],
   "source": [
    "embedding_matrix_2.shape"
   ]
  },
  {
   "cell_type": "code",
   "execution_count": 21,
   "metadata": {},
   "outputs": [
    {
     "data": {
      "text/plain": [
       "(30000, 600)"
      ]
     },
     "execution_count": 21,
     "metadata": {},
     "output_type": "execute_result"
    }
   ],
   "source": [
    "embedding_matrix = np.concatenate((embedding_matrix_1, embedding_matrix_2), axis=1)\n",
    "embedding_matrix.shape"
   ]
  },
  {
   "cell_type": "markdown",
   "metadata": {},
   "source": [
    "# Data understanding & visualization"
   ]
  },
  {
   "cell_type": "markdown",
   "metadata": {},
   "source": [
    "# De-noise (no drop data)"
   ]
  },
  {
   "cell_type": "markdown",
   "metadata": {},
   "source": [
    "# Feature engineering"
   ]
  },
  {
   "cell_type": "markdown",
   "metadata": {},
   "source": [
    "# Offline augmentation"
   ]
  },
  {
   "cell_type": "markdown",
   "metadata": {},
   "source": [
    "# Standarization"
   ]
  },
  {
   "cell_type": "markdown",
   "metadata": {},
   "source": [
    "# Scaling"
   ]
  },
  {
   "cell_type": "markdown",
   "metadata": {},
   "source": [
    "# Normalization"
   ]
  },
  {
   "cell_type": "markdown",
   "metadata": {},
   "source": [
    "# Feature selection"
   ]
  },
  {
   "cell_type": "markdown",
   "metadata": {},
   "source": [
    "# Data selection"
   ]
  },
  {
   "cell_type": "markdown",
   "metadata": {},
   "source": [
    "# Optimization"
   ]
  },
  {
   "cell_type": "code",
   "execution_count": null,
   "metadata": {},
   "outputs": [],
   "source": [
    "model_input = keras.Input(shape=(MAX_SENTENSE_LEN, ))\n",
    "x = keras.layers.Embedding(MAX_TOKENS, EMBEDDING_SIZE, mask_zero=True, weights=[embedding_matrix], embeddings_regularizer=l2(1e-5))(model_input)\n",
    "x = keras.layers.GRU(64, return_sequences=True, activation=\"relu\", kernel_regularizer=l2(1e-5))(x)\n",
    "x = keras.layers.SpatialDropout1D(0.2)(x)\n",
    "x = keras.layers.GRU(32, return_sequences=False, activation=\"relu\", kernel_regularizer=l2(1e-5))(x)\n",
    "x = keras.layers.Dropout(0.2)(x)\n",
    "x = keras.layers.Dense(32, activation=\"relu\")(x)\n",
    "model_output = keras.layers.Dense(len(LABELS), activation=\"sigmoid\")(x)\n",
    "\n",
    "model = keras.Model(inputs=model_input, outputs=model_output)\n",
    "model.compile(keras.optimizers.Adam(3e-4), loss='binary_crossentropy', metrics=['acc'])\n",
    "\n",
    "hist = model.fit(x_train, \n",
    "                 y_train, \n",
    "                 batch_size=256,\n",
    "                 shuffle=True,\n",
    "                 epochs=100, \n",
    "                 validation_split=0.05,\n",
    "                 callbacks=[keras.callbacks.EarlyStopping(monitor='val_loss',\n",
    "                                                          patience=1, \n",
    "                                                          verbose=1)], \n",
    "                 verbose=1)\n",
    "\n",
    "y_pred = model.predict(x_test)\n",
    "submission[LABELS] = y_pred\n",
    "submission.to_csv('121.submission.csv', index=False)\n",
    "\n",
    "# ~ 0.96507"
   ]
  },
  {
   "cell_type": "code",
   "execution_count": null,
   "metadata": {},
   "outputs": [],
   "source": []
  },
  {
   "cell_type": "code",
   "execution_count": null,
   "metadata": {},
   "outputs": [],
   "source": [
    "model_input = keras.Input(shape=(MAX_SENTENSE_LEN, ))\n",
    "x = keras.layers.Embedding(MAX_TOKENS, EMBEDDING_SIZE, mask_zero=True, weights=[embedding_matrix], embeddings_regularizer=l2(1e-5))(model_input)\n",
    "x = keras.layers.Bidirectional(keras.layers.GRU(64, return_sequences=True, activation=\"relu\", recurrent_dropout=0.1))(x)\n",
    "x = keras.layers.SpatialDropout1D(0.2)(x)\n",
    "x = keras.layers.Bidirectional(keras.layers.GRU(32, return_sequences=True, activation=\"relu\", recurrent_dropout=0.1))(x)\n",
    "x = keras.layers.GlobalMaxPool1D()(x)\n",
    "x = keras.layers.Dense(32, activation=\"relu\")(x)\n",
    "model_output = keras.layers.Dense(len(LABELS), activation=\"sigmoid\")(x)\n",
    "\n",
    "model = keras.Model(inputs=model_input, outputs=model_output)\n",
    "model.compile(keras.optimizers.Adam(3e-4), loss='binary_crossentropy', metrics=['acc'])\n",
    "\n",
    "hist = model.fit(x_train, \n",
    "                 y_train, \n",
    "                 batch_size=256,\n",
    "                 shuffle=True,\n",
    "                 epochs=100, \n",
    "                 validation_split=0.05,\n",
    "                 callbacks=[keras.callbacks.EarlyStopping(monitor='val_loss',\n",
    "                                                          patience=1, \n",
    "                                                          verbose=1)], \n",
    "                 verbose=1)\n",
    "\n",
    "y_pred = model.predict(x_test)\n",
    "submission[LABELS] = y_pred\n",
    "submission.to_csv('122.submission.csv', index=False)\n",
    "\n",
    "# ~ 0.97371"
   ]
  },
  {
   "cell_type": "code",
   "execution_count": null,
   "metadata": {},
   "outputs": [
    {
     "name": "stdout",
     "output_type": "stream",
     "text": [
      "Epoch 1/100\n",
      "593/593 [==============================] - 879s 1s/step - loss: 0.1012 - acc: 0.8568 - val_loss: 0.0530 - val_acc: 0.9940\n",
      "Epoch 2/100\n",
      "593/593 [==============================] - 926s 2s/step - loss: 0.0485 - acc: 0.9878 - val_loss: 0.0509 - val_acc: 0.9922\n",
      "Epoch 3/100\n",
      "115/593 [====>.........................] - ETA: 12:38 - loss: 0.0437 - acc: 0.9908"
     ]
    }
   ],
   "source": [
    "model_input = keras.Input(shape=(MAX_SENTENSE_LEN, ))\n",
    "x = keras.layers.Embedding(MAX_TOKENS, EMBEDDING_SIZE, weights=[embedding_matrix])(model_input)\n",
    "x = keras.layers.Bidirectional(keras.layers.GRU(64, return_sequences=True, activation=\"relu\", recurrent_dropout=0.1))(x)\n",
    "x = keras.layers.SpatialDropout1D(0.1)(x)\n",
    "x = keras.layers.Bidirectional(keras.layers.GRU(32, return_sequences=True, activation=\"relu\", recurrent_dropout=0.1))(x)\n",
    "x = keras.layers.GlobalMaxPool1D()(x)\n",
    "x = keras.layers.Dense(32, activation=\"relu\")(x)\n",
    "model_output = keras.layers.Dense(len(LABELS), activation=\"sigmoid\")(x)\n",
    "\n",
    "model = keras.Model(inputs=model_input, outputs=model_output)\n",
    "model.compile(keras.optimizers.Adam(3e-4), loss='binary_crossentropy', metrics=['acc'])\n",
    "\n",
    "hist = model.fit(x_train, \n",
    "                 y_train, \n",
    "                 batch_size=256,\n",
    "                 shuffle=True,\n",
    "                 epochs=100, \n",
    "                 validation_split=0.05,\n",
    "                 callbacks=[keras.callbacks.EarlyStopping(monitor='val_loss',\n",
    "                                                          patience=1, \n",
    "                                                          verbose=1)], \n",
    "                 verbose=1)\n",
    "\n",
    "y_pred = model.predict(x_test)\n",
    "submission[LABELS] = y_pred\n",
    "submission.to_csv('123.submission.csv', index=False)\n",
    "\n",
    "# ~ 0.98018"
   ]
  },
  {
   "cell_type": "code",
   "execution_count": null,
   "metadata": {},
   "outputs": [],
   "source": [
    "model_input = keras.Input(shape=(MAX_SENTENSE_LEN, ))\n",
    "x = keras.layers.Embedding(MAX_TOKENS, EMBEDDING_SIZE, weights=[embedding_matrix])(model_input)\n",
    "x = keras.layers.Bidirectional(keras.layers.GRU(64, return_sequences=True, activation=\"relu\", recurrent_dropout=0.1))(x)\n",
    "x = keras.layers.SpatialDropout1D(0.1)(x)\n",
    "x = keras.layers.Bidirectional(keras.layers.GRU(32, return_sequences=True, activation=\"relu\", recurrent_dropout=0.1))(x)\n",
    "x = keras.layers.GlobalMaxPool1D()(x)\n",
    "x = keras.layers.Dense(32, activation=\"relu\")(x)\n",
    "model_output = keras.layers.Dense(len(LABELS), activation=\"sigmoid\")(x)\n",
    "\n",
    "model = keras.Model(inputs=model_input, outputs=model_output)\n",
    "model.compile(keras.optimizers.Adam(3e-4), loss='binary_crossentropy', metrics=['acc'])\n",
    "\n",
    "hist = model.fit(x_train, \n",
    "                 y_train, \n",
    "                 batch_size=32,\n",
    "                 shuffle=True,\n",
    "                 epochs=100, \n",
    "                 validation_split=0.05,\n",
    "                 callbacks=[keras.callbacks.EarlyStopping(monitor='val_loss',\n",
    "                                                          patience=1, \n",
    "                                                          verbose=1)], \n",
    "                 verbose=1)\n",
    "\n",
    "y_pred = model.predict(x_test)\n",
    "submission[LABELS] = y_pred\n",
    "submission.to_csv('124.submission.csv', index=False)\n",
    "\n",
    "# ~ 0.98002"
   ]
  },
  {
   "cell_type": "code",
   "execution_count": null,
   "metadata": {},
   "outputs": [],
   "source": [
    "model_input = keras.Input(shape=(MAX_SENTENSE_LEN,))\n",
    "x = keras.layers.Embedding(MAX_TOKENS, EMBEDDING_SIZE, weights=[embedding_matrix])(model_input)\n",
    "x = keras.layers.Bidirectional(keras.layers.LSTM(50, return_sequences=True, dropout=0.1, recurrent_dropout=0.1))(x)\n",
    "x = keras.layers.GlobalMaxPool1D()(x)\n",
    "x = keras.layers.Dense(50, activation=\"relu\")(x)\n",
    "x = keras.layers.Dropout(0.1)(x)\n",
    "x = keras.layers.Dense(6, activation=\"sigmoid\")(x)\n",
    "model = keras.Model(inputs=model_input, outputs=x)\n",
    "model.compile(loss='binary_crossentropy', optimizer='adam', metrics=['accuracy'])\n",
    "\n",
    "hist = model.fit(x_train, \n",
    "                 y_train, \n",
    "                 batch_size=256,\n",
    "                 shuffle=True,\n",
    "                 epochs=100, \n",
    "                 validation_split=0.05,\n",
    "                 callbacks=[keras.callbacks.EarlyStopping(monitor='val_loss',\n",
    "                                                          patience=1, \n",
    "                                                          verbose=1)], \n",
    "                 verbose=1)\n",
    "\n",
    "y_pred = model.predict(x_test)\n",
    "submission[LABELS] = y_pred\n",
    "submission.to_csv('125.submission.csv', index=False)\n",
    "\n",
    "# ~ 0.97787"
   ]
  },
  {
   "cell_type": "code",
   "execution_count": null,
   "metadata": {},
   "outputs": [],
   "source": []
  },
  {
   "cell_type": "code",
   "execution_count": null,
   "metadata": {},
   "outputs": [],
   "source": [
    "model_input = keras.Input(shape=(MAX_SENTENSE_LEN,))\n",
    "x = keras.layers.Embedding(MAX_TOKENS, EMBEDDING_SIZE, weights=[embedding_matrix])(model_input)\n",
    "x = keras.layers.Bidirectional(keras.layers.LSTM(50, return_sequences=True, dropout=0.1, recurrent_dropout=0.1))(x)\n",
    "x = keras.layers.GlobalMaxPool1D()(x)\n",
    "x = keras.layers.Dense(50, activation=\"relu\")(x)\n",
    "x = keras.layers.Dropout(0.1)(x)\n",
    "x = keras.layers.Dense(6, activation=\"sigmoid\")(x)\n",
    "model = keras.Model(inputs=model_input, outputs=x)\n",
    "model.compile(loss='binary_crossentropy', optimizer='adam', metrics=['accuracy'])\n",
    "\n",
    "model.fit(x_train, y_train, batch_size=32, epochs=100, validation_split=0.1);\n",
    "\n",
    "y_pred = model.predict(x_test)\n",
    "submission[LABELS] = y_pred\n",
    "submission.to_csv('126.submission.csv', index=False)\n",
    "# ~ 0.98071"
   ]
  },
  {
   "cell_type": "markdown",
   "metadata": {},
   "source": [
    "# Parameter tuning"
   ]
  },
  {
   "cell_type": "markdown",
   "metadata": {},
   "source": [
    "# Online augmentation"
   ]
  },
  {
   "cell_type": "markdown",
   "metadata": {},
   "source": [
    "# Model selection / blending"
   ]
  },
  {
   "cell_type": "markdown",
   "metadata": {},
   "source": [
    "# Post-processing"
   ]
  },
  {
   "cell_type": "markdown",
   "metadata": {},
   "source": [
    "# Evaluation"
   ]
  },
  {
   "cell_type": "markdown",
   "metadata": {},
   "source": [
    "# Reasoning"
   ]
  },
  {
   "cell_type": "markdown",
   "metadata": {},
   "source": [
    "# Monitoring"
   ]
  },
  {
   "cell_type": "code",
   "execution_count": null,
   "metadata": {},
   "outputs": [],
   "source": []
  },
  {
   "cell_type": "code",
   "execution_count": null,
   "metadata": {},
   "outputs": [],
   "source": []
  },
  {
   "cell_type": "code",
   "execution_count": null,
   "metadata": {},
   "outputs": [],
   "source": []
  }
 ],
 "metadata": {
  "kernelspec": {
   "display_name": "Python 3",
   "language": "python",
   "name": "python3"
  },
  "language_info": {
   "codemirror_mode": {
    "name": "ipython",
    "version": 3
   },
   "file_extension": ".py",
   "mimetype": "text/x-python",
   "name": "python",
   "nbconvert_exporter": "python",
   "pygments_lexer": "ipython3",
   "version": "3.6.4"
  }
 },
 "nbformat": 4,
 "nbformat_minor": 4
}
