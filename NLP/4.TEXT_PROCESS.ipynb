{
 "cells": [
  {
   "cell_type": "code",
   "execution_count": 5,
   "metadata": {},
   "outputs": [],
   "source": [
    "import numpy as np\n",
    "import pandas as pd\n",
    "import sklearn\n",
    "from sklearn import *"
   ]
  },
  {
   "cell_type": "code",
   "execution_count": null,
   "metadata": {},
   "outputs": [],
   "source": [
    "COMMENT = 'comment_text'\n",
    "LABELS = ['toxic', 'severe_toxic', 'obscene', 'threat', 'insult', 'identity_hate']"
   ]
  },
  {
   "cell_type": "markdown",
   "metadata": {},
   "source": [
    "# Problem understanding"
   ]
  },
  {
   "cell_type": "markdown",
   "metadata": {},
   "source": [
    "# Dataset generation"
   ]
  },
  {
   "cell_type": "code",
   "execution_count": null,
   "metadata": {},
   "outputs": [],
   "source": [
    "train = pd.read_csv('jigsaw-toxic-comment-classification-challenge/train.csv')\n",
    "test = pd.read_csv('jigsaw-toxic-comment-classification-challenge/test.csv')\n",
    "test_labels = pd.read_csv('jigsaw-toxic-comment-classification-challenge/test_labels.csv')\n",
    "sample_submission = pd.read_csv('jigsaw-toxic-comment-classification-challenge/sample_submission.csv')"
   ]
  },
  {
   "cell_type": "markdown",
   "metadata": {},
   "source": [
    "# Metrics define"
   ]
  },
  {
   "cell_type": "markdown",
   "metadata": {},
   "source": [
    "# Validation strategy"
   ]
  },
  {
   "cell_type": "markdown",
   "metadata": {},
   "source": [
    "# Data processing (extract useful information)"
   ]
  },
  {
   "cell_type": "code",
   "execution_count": 16,
   "metadata": {
    "jupyter": {
     "source_hidden": true
    }
   },
   "outputs": [],
   "source": [
    "import re\n",
    "import textwrap\n",
    "import unicodedata\n",
    "import warnings\n",
    "from string import ascii_letters, digits, punctuation\n",
    "\n",
    "from bs4 import BeautifulSoup\n",
    "\n",
    "warnings.filterwarnings(\"ignore\", category=UserWarning, module='bs4')\n",
    "\n",
    "\n",
    "class BaseFilter:\n",
    "    \"\"\"Base filter class, it does NOTHING.\n",
    "    This class is design for providing ``__repr__`` string, which is useful in\n",
    "    python interactive prompt.\n",
    "    \"\"\"\n",
    "\n",
    "    def __repr__(self):\n",
    "        return '<%s>' % type(self).__name__\n",
    "\n",
    "    def __call__(self, text: str) -> str:\n",
    "        return text\n",
    "\n",
    "\n",
    "class GeneralFilter(BaseFilter):\n",
    "\n",
    "    def __repr__(self):\n",
    "        return '<{clsn} repl=`{repl}`>'.format(clsn=type(self).__name__,\n",
    "                                               repl=self.repl)\n",
    "\n",
    "    def __call__(self, s: str, count: int = 0):\n",
    "        return self.pattern.sub(self.repl, s, count)\n",
    "\n",
    "\n",
    "class EmailFilter(GeneralFilter):\n",
    "    \n",
    "    def __init__(self, replace=' '):\n",
    "        if isinstance(replace, str):\n",
    "            self.repl = replace\n",
    "        else:\n",
    "            self.repl = lambda match: next(replace) # for iterator tag\n",
    "        self.expression = r'[a-zA-Z0-9_.+-]+@[a-zA-Z0-9-]+\\.[a-zA-Z0-9-.]+'\n",
    "        self.pattern = re.compile(self.expression)\n",
    "\n",
    "\n",
    "class URLFilter(GeneralFilter):\n",
    "    \n",
    "    # copied from string_constants.py\n",
    "    schemes = list(map(lambda x: '{}:\\/\\/'.format(x), (\"http\", \"https\", \"ftp\", \"sftp\", \"irc\", \"magnet\", \"file\", \"data\"))) + ['www.']\n",
    "    schemes_lenient = list(map(lambda x: '{}:\\/\\/'.format(x), (\"h?ttp\", \"h?ttps\", \"ftp\", \"sftp\", \"irc\", \"magnet\", \"file\", \"data\"))) + ['www.']\n",
    "\n",
    "    # from RFC\n",
    "    gen_delims = \":/?#[]@\"\n",
    "    sub_delims = \"!$&'()*+;=%\"\n",
    "    reserved = gen_delims + sub_delims\n",
    "    unreserved = ascii_letters + digits + \"-._~\"\n",
    "    valid_uri_characters = reserved + unreserved\n",
    "\n",
    "    def __init__(self, replace=' ', allow_common_typoes=True):\n",
    "        \n",
    "        if isinstance(replace, str):\n",
    "            self.repl = replace\n",
    "        else:\n",
    "            self.repl = lambda match: next(replace) # for iterator tag\n",
    "\n",
    "        if allow_common_typoes:\n",
    "            self.expression = r\"((?:{})[{}]+)\".format(\"|\".join(self.schemes), re.escape(self.valid_uri_characters))\n",
    "        else:\n",
    "            self.expression = r\"((?:{})[{}]+)\".format(\"|\".join(self.schemes_lenient), re.escape(self.valid_uri_characters))\n",
    "        self.pattern = re.compile(self.expression)\n",
    "\n",
    "\n",
    "class EscapeCharFilter(GeneralFilter):\n",
    "\n",
    "    def __init__(self, replace:str=' '):\n",
    "        self.repl = replace\n",
    "        self.expression = r'([{}])'.format('\\r\\n\\t\\v')\n",
    "        self.pattern = re.compile(self.expression)\n",
    "\n",
    "\n",
    "class InvisableCharFilter(GeneralFilter):\n",
    "    \n",
    "    def __init__(self, replace:str='', ):\n",
    "        self.repl = replace\n",
    "        self.expression = r'([{}])'.format(r'\\xa0\\xad\\u200c')\n",
    "        self.pattern = re.compile(self.expression)\n",
    "\n",
    "\n",
    "class KeyWordsFilter(GeneralFilter):\n",
    "    \n",
    "    def __init__(self, replace:str=' ', keywords=('mailto',)):\n",
    "        self.repl = replace\n",
    "        self.expression = r'({})'.format('|'.join(map(lambda x: '({})'.format(x), keywords)))\n",
    "        self.pattern = re.compile(self.expression)\n",
    "\n",
    "\n",
    "class MultiSpacesFilter(GeneralFilter):\n",
    "    \n",
    "    def __init__(self, replace:str=' '):\n",
    "        self.repl = replace\n",
    "        self.expression = r'(\\s+)'\n",
    "        self.pattern = re.compile(self.expression)\n",
    "\n",
    "\n",
    "class FilterNonChars(GeneralFilter):\n",
    "\n",
    "    def __init__(self, replace:str=' '):\n",
    "        self.repl = replace\n",
    "        self.expression = r'(\\W+)'\n",
    "        self.pattern = re.compile(self.expression)\n",
    "        \n",
    "        \n",
    "class HTMLFilter(GeneralFilter):\n",
    "    def __init__(self, replace:str=''):\n",
    "        self.repl = replace\n",
    "        self.expression = \"<[^>]*>\"\n",
    "        self.pattern = re.compile(self.expression)\n",
    "\n",
    "class HTML2Text:\n",
    "    \n",
    "    def __init__(self, filters=('script', 'style', 'meta', 'noscript')):\n",
    "        self.filters = filters\n",
    "\n",
    "    def extract_text_from_html(self, html:str):\n",
    "\n",
    "        soup = BeautifulSoup(html, features='lxml')\n",
    "        for script in soup(self.filters): # remove all javascript and stylesheet code\n",
    "            script.decompose()\n",
    "        return soup.get_text()\n",
    "    \n",
    "    def __call__(self, html:str):\n",
    "        try:\n",
    "            return self.extract_text_from_html(html)\n",
    "        except:\n",
    "            return str()\n",
    "\n",
    "\n",
    "\n",
    "class UnicodeStandarizer:\n",
    "    \n",
    "    def __init__(self, method='NFKC'): # NFD, NFC, NFKD, NFKC\n",
    "        self.method = method\n",
    "    \n",
    "    def __call__(self, text:str):\n",
    "        return unicodedata.normalize(self.method, text)\n",
    "\n",
    "\n",
    "class Stripper:\n",
    "    @staticmethod    \n",
    "    def __call__(text:str):\n",
    "        return text.strip()\n",
    "\n",
    "\n",
    "class Lowercasting:\n",
    "    @staticmethod    \n",
    "    def __call__(text:str):\n",
    "        return text.lower()\n",
    "\n",
    "\n",
    "class SequentialProcessor(BaseFilter):\n",
    "    \"\"\"Sequential processor: A class provide an interface to create integral\n",
    "    processor that would sequentially filter text by the given filters.\n",
    "    Usage::\n",
    "        text_preprocessor = SequentialProcessor(\n",
    "            UnicodeStandarizer(),\n",
    "            HTML2Text(),\n",
    "            InvisableCharFilter(),\n",
    "            LIDFilter(),\n",
    "            Lowercasting(),\n",
    "            KeyWordsFilter(),\n",
    "            MultiSpacesFilter(),\n",
    "            Stripper(),\n",
    "        )\n",
    "    \"\"\"\n",
    "\n",
    "    def __init__(self, *processors):\n",
    "        self.pipeline = processors\n",
    "\n",
    "    def __repr__(self):\n",
    "        if len(self.pipeline) == 1:\n",
    "            children_desc = repr(self.pipeline)\n",
    "        else:\n",
    "            # use textwrap to support nested processors\n",
    "            children_desc = '\\n' + ',\\n'.join(\n",
    "                textwrap.indent(repr(p), ' ' * 4)\n",
    "                for p in self.pipeline)\n",
    "        return '<{clsn} [{child}]>'.format(clsn=type(self).__name__,\n",
    "                                           child=children_desc)\n",
    "\n",
    "    def __call__(self, text: str):\n",
    "        for processor in self.pipeline:\n",
    "            text = processor(text)\n",
    "        return text\n",
    "\n",
    "class GeneralProcessor(SequentialProcessor):\n",
    "    pass\n",
    "\n",
    "class KeepWordSpace(GeneralFilter):\n",
    "    def __init__(self, replace:str=' '):\n",
    "        self.repl = replace\n",
    "        self.expression = r'([^\\w\\s])'\n",
    "        self.pattern = re.compile(self.expression)\n",
    "        \n",
    "class WordModelPreprocessor(GeneralProcessor):\n",
    "    \n",
    "    def __init__(self):\n",
    "        self.pipeline = (UnicodeStandarizer(), HTML2Text(), URLFilter(), EscapeCharFilter(), KeepWordSpace(), Lowercasting(), MultiSpacesFilter(), Stripper())\n",
    "\n",
    "class LIDFilter(GeneralFilter):\n",
    "    \n",
    "    def __init__(self, replace=' '):\n",
    "        self.repl = replace\n",
    "        filters = EmailFilter(), URLFilter(), EscapeCharFilter(), FilterNonChars()\n",
    "        self.expression = '|'.join(list(map(lambda x: x.expression, filters)))\n",
    "        self.pattern = re.compile(self.expression)\n",
    "\n",
    "class TextPreprocessor(GeneralProcessor):\n",
    "    \n",
    "    def __init__(self):\n",
    "        self.pipeline = (UnicodeStandarizer(), HTML2Text(), InvisableCharFilter(), LIDFilter(), Lowercasting(), KeyWordsFilter(), MultiSpacesFilter(), Stripper())"
   ]
  },
  {
   "cell_type": "code",
   "execution_count": 19,
   "metadata": {},
   "outputs": [],
   "source": [
    "class TextPreprocessor(GeneralProcessor):\n",
    "    \n",
    "    def __init__(self):\n",
    "        self.pipeline = (UnicodeStandarizer(), HTML2Text(), URLFilter(), EmailFilter(), InvisableCharFilter(), LIDFilter(), Lowercasting(), KeyWordsFilter(), MultiSpacesFilter(), Stripper())"
   ]
  },
  {
   "cell_type": "code",
   "execution_count": 20,
   "metadata": {},
   "outputs": [],
   "source": [
    "text_preprocessor = TextPreprocessor()\n",
    "with Pool() as pool:\n",
    "    train[COMMENT] = pool.map(text_preprocessor, train[COMMENT])\n",
    "    test[COMMENT] = pool.map(text_preprocessor, test[COMMENT])"
   ]
  },
  {
   "cell_type": "code",
   "execution_count": 21,
   "metadata": {},
   "outputs": [
    {
     "data": {
      "text/plain": [
       "'explanation why the edits made under my username hardcore metallica fan were reverted they weren t vandalisms just closure on some gas after i voted at new york dolls fac and please don t remove the template from the talk page since i m retired now 89 205 38 27'"
      ]
     },
     "execution_count": 21,
     "metadata": {},
     "output_type": "execute_result"
    }
   ],
   "source": [
    "train[COMMENT][0]"
   ]
  },
  {
   "cell_type": "markdown",
   "metadata": {},
   "source": [
    "# Data understanding & visualization"
   ]
  },
  {
   "cell_type": "markdown",
   "metadata": {},
   "source": [
    "# De-noise (no drop data)"
   ]
  },
  {
   "cell_type": "markdown",
   "metadata": {},
   "source": [
    "# Feature engineering"
   ]
  },
  {
   "cell_type": "code",
   "execution_count": 68,
   "metadata": {},
   "outputs": [],
   "source": [
    "from sklearn.feature_extraction.text import TfidfVectorizer\n",
    "\n",
    "vec = TfidfVectorizer(max_features=16384)\n",
    "\n",
    "x_train = vec.fit_transform(train[COMMENT])\n",
    "x_test = vec.transform(test[COMMENT])"
   ]
  },
  {
   "cell_type": "code",
   "execution_count": 58,
   "metadata": {},
   "outputs": [],
   "source": [
    "from sklearn.feature_extraction.text import TfidfVectorizer\n",
    "\n",
    "vec = TfidfVectorizer(max_features=16384, analyzer='char', ngram_range=(2, 4))\n",
    "\n",
    "x_train_char = vec.fit_transform(train[COMMENT])\n",
    "x_test_char = vec.transform(test[COMMENT])"
   ]
  },
  {
   "cell_type": "markdown",
   "metadata": {},
   "source": [
    "# Offline augmentation"
   ]
  },
  {
   "cell_type": "markdown",
   "metadata": {},
   "source": [
    "# Standarization"
   ]
  },
  {
   "cell_type": "markdown",
   "metadata": {},
   "source": [
    "# Scaling"
   ]
  },
  {
   "cell_type": "markdown",
   "metadata": {},
   "source": [
    "# Normalization"
   ]
  },
  {
   "cell_type": "markdown",
   "metadata": {},
   "source": [
    "# Feature selection"
   ]
  },
  {
   "cell_type": "markdown",
   "metadata": {},
   "source": [
    "# Data selection"
   ]
  },
  {
   "cell_type": "markdown",
   "metadata": {},
   "source": [
    "# Optimization"
   ]
  },
  {
   "cell_type": "code",
   "execution_count": 64,
   "metadata": {},
   "outputs": [
    {
     "name": "stderr",
     "output_type": "stream",
     "text": [
      "/home/shanger_lin/.pyenv/versions/3.6.4/lib/python3.6/site-packages/sklearn/linear_model/logistic.py:433: FutureWarning: Default solver will be changed to 'lbfgs' in 0.22. Specify a solver to silence this warning.\n",
      "  FutureWarning)\n"
     ]
    }
   ],
   "source": [
    "# baseline model with preprocess.\n",
    "\n",
    "from sklearn.linear_model import LogisticRegression\n",
    "models = {l: LogisticRegression() for l in LABELS}\n",
    "[models[l].fit(x_train, train[l]) for l in LABELS]\n",
    "for l in LABELS:\n",
    "    sample_submission[l] = models[l].predict_proba(x_test)[:, 1]\n",
    "sample_submission.to_csv('submission.csv', index=False)\n",
    "\n",
    "# ~ 97.43% (0.01% improved)"
   ]
  },
  {
   "cell_type": "code",
   "execution_count": 65,
   "metadata": {},
   "outputs": [
    {
     "name": "stderr",
     "output_type": "stream",
     "text": [
      "/home/shanger_lin/.pyenv/versions/3.6.4/lib/python3.6/site-packages/sklearn/linear_model/logistic.py:433: FutureWarning: Default solver will be changed to 'lbfgs' in 0.22. Specify a solver to silence this warning.\n",
      "  FutureWarning)\n"
     ]
    }
   ],
   "source": [
    "# baseline model with preprocess, 2-4 char grams.\n",
    "\n",
    "from sklearn.linear_model import LogisticRegression\n",
    "models = {l: LogisticRegression() for l in LABELS}\n",
    "[models[l].fit(x_train_char, train[l]) for l in LABELS]\n",
    "for l in LABELS:\n",
    "    sample_submission[l] = models[l].predict_proba(x_test_char)[:, 1]\n",
    "sample_submission.to_csv('submission.csv', index=False)\n",
    "\n",
    "# ~ 97.53% (0.1 % improved)"
   ]
  },
  {
   "cell_type": "code",
   "execution_count": 73,
   "metadata": {},
   "outputs": [
    {
     "name": "stderr",
     "output_type": "stream",
     "text": [
      "/home/shanger_lin/.pyenv/versions/3.6.4/lib/python3.6/site-packages/sklearn/linear_model/sag.py:334: ConvergenceWarning: The max_iter was reached which means the coef_ did not converge\n",
      "  \"the coef_ did not converge\", ConvergenceWarning)\n"
     ]
    }
   ],
   "source": [
    "# baseline model with preprocess, 2-4 char grams.\n",
    "\n",
    "from sklearn.linear_model import LogisticRegression\n",
    "models = {l: LogisticRegression(C=3, n_jobs=-1, solver='saga') for l in LABELS}\n",
    "[models[l].fit(x_train_char, train[l]) for l in LABELS]\n",
    "for l in LABELS:\n",
    "    sample_submission[l] = models[l].predict_proba(x_test_char)[:, 1]\n",
    "sample_submission.to_csv('submission.csv', index=False)\n",
    "\n",
    "# 97.55% "
   ]
  },
  {
   "cell_type": "code",
   "execution_count": null,
   "metadata": {},
   "outputs": [],
   "source": []
  },
  {
   "cell_type": "markdown",
   "metadata": {},
   "source": [
    "# Parameter tuning"
   ]
  },
  {
   "cell_type": "markdown",
   "metadata": {},
   "source": [
    "# Online augmentation"
   ]
  },
  {
   "cell_type": "markdown",
   "metadata": {},
   "source": [
    "# Model selection / blending"
   ]
  },
  {
   "cell_type": "markdown",
   "metadata": {},
   "source": [
    "# Post-processing"
   ]
  },
  {
   "cell_type": "markdown",
   "metadata": {},
   "source": [
    "# Evaluation"
   ]
  },
  {
   "cell_type": "markdown",
   "metadata": {},
   "source": [
    "# Reasoning"
   ]
  },
  {
   "cell_type": "markdown",
   "metadata": {},
   "source": [
    "# Monitoring"
   ]
  },
  {
   "cell_type": "code",
   "execution_count": null,
   "metadata": {},
   "outputs": [],
   "source": []
  }
 ],
 "metadata": {
  "kernelspec": {
   "display_name": "Python 3",
   "language": "python",
   "name": "python3"
  },
  "language_info": {
   "codemirror_mode": {
    "name": "ipython",
    "version": 3
   },
   "file_extension": ".py",
   "mimetype": "text/x-python",
   "name": "python",
   "nbconvert_exporter": "python",
   "pygments_lexer": "ipython3",
   "version": "3.6.4"
  }
 },
 "nbformat": 4,
 "nbformat_minor": 4
}
