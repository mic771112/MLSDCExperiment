{
 "cells": [
  {
   "cell_type": "code",
   "execution_count": 1,
   "metadata": {},
   "outputs": [
    {
     "data": {
      "text/plain": [
       "17"
      ]
     },
     "execution_count": 1,
     "metadata": {},
     "output_type": "execute_result"
    }
   ],
   "source": [
    "17"
   ]
  },
  {
   "cell_type": "code",
   "execution_count": 27,
   "metadata": {},
   "outputs": [],
   "source": [
    "import numpy as np\n",
    "import pandas as pd\n",
    "import tensorflow as tf\n",
    "from tensorflow.keras.layers import Dense, Input\n",
    "from tensorflow.keras.optimizers import Adam\n",
    "from tensorflow.keras.models import Model\n",
    "from tensorflow.keras.callbacks import ModelCheckpoint\n",
    "import tensorflow_hub as hub\n",
    "\n",
    "import tokenization"
   ]
  },
  {
   "cell_type": "code",
   "execution_count": 3,
   "metadata": {},
   "outputs": [],
   "source": [
    "COMMENT = 'comment_text'\n",
    "LABELS = ['toxic', 'severe_toxic', 'obscene', 'threat', 'insult', 'identity_hate']"
   ]
  },
  {
   "cell_type": "code",
   "execution_count": 4,
   "metadata": {},
   "outputs": [],
   "source": [
    "base_path = 'jigsaw-toxic-comment-classification-challenge'\n",
    "train = pd.read_csv(f'{base_path}/train.csv')\n",
    "test = pd.read_csv(f'{base_path}/test.csv')\n",
    "submission = pd.read_csv(f'{base_path}/sample_submission.csv')\n",
    "test_labels = pd.read_csv(f'{base_path}/test_labels.csv')"
   ]
  },
  {
   "cell_type": "code",
   "execution_count": 5,
   "metadata": {},
   "outputs": [
    {
     "name": "stderr",
     "output_type": "stream",
     "text": [
      "/home/shanger_lin/.pyenv/versions/3.6.4/lib/python3.6/site-packages/IPython/core/interactiveshell.py:2850: FutureWarning: arrays to stack must be passed as a \"sequence\" type such as list or tuple. Support for non-sequence iterables such as generators is deprecated as of NumPy 1.16 and will raise an error in the future.\n",
      "  if self.run_code(code, result):\n"
     ]
    },
    {
     "data": {
      "text/plain": [
       "(-0.0039050116, 0.38177028)"
      ]
     },
     "execution_count": 5,
     "metadata": {},
     "output_type": "execute_result"
    }
   ],
   "source": [
    "EMBEDDING_FILE = f'{base_path}/glove.6B.300d.txt'\n",
    "def get_coefs(word,*arr): \n",
    "    return word.lower(), np.asarray(arr, dtype='float32')\n",
    "\n",
    "with open(EMBEDDING_FILE) as f:\n",
    "    embeddings_index_1 = dict(get_coefs(*o.strip().split()) for o in f)\n",
    "\n",
    "all_embs_1 = np.stack(embeddings_index_1.values())\n",
    "emb_mean_1 = all_embs_1.mean()\n",
    "emb_std_1 = all_embs_1.std()\n",
    "emb_mean_1, emb_std_1"
   ]
  },
  {
   "cell_type": "code",
   "execution_count": 6,
   "metadata": {},
   "outputs": [
    {
     "name": "stderr",
     "output_type": "stream",
     "text": [
      "/home/shanger_lin/.pyenv/versions/3.6.4/lib/python3.6/site-packages/IPython/core/interactiveshell.py:2850: FutureWarning: arrays to stack must be passed as a \"sequence\" type such as list or tuple. Support for non-sequence iterables such as generators is deprecated as of NumPy 1.16 and will raise an error in the future.\n",
      "  if self.run_code(code, result):\n"
     ]
    },
    {
     "data": {
      "text/plain": [
       "(-0.0033393223, 0.1248688)"
      ]
     },
     "execution_count": 6,
     "metadata": {},
     "output_type": "execute_result"
    }
   ],
   "source": [
    "EMBEDDING_FILE = f'{base_path}/GoogleNews-vectors-negative300.bin'\n",
    "\n",
    "wv = KeyedVectors.load_word2vec_format(EMBEDDING_FILE, binary=True)\n",
    "embeddings_index_2 = {w.lower():wv.get_vector(w) for w in wv.index2word}\n",
    "\n",
    "all_embs_2 = np.stack(embeddings_index_2.values())\n",
    "emb_mean_2 = all_embs_2.mean()\n",
    "emb_std_2 = all_embs_2.std()\n",
    "emb_mean_2, emb_std_2"
   ]
  },
  {
   "cell_type": "code",
   "execution_count": 7,
   "metadata": {},
   "outputs": [
    {
     "name": "stderr",
     "output_type": "stream",
     "text": [
      "Warning : `load_model` does not return WordVectorModel or SupervisedModel any more, but a `FastText` object which is very similar.\n",
      "/home/shanger_lin/.pyenv/versions/3.6.4/lib/python3.6/site-packages/IPython/core/interactiveshell.py:2850: FutureWarning: arrays to stack must be passed as a \"sequence\" type such as list or tuple. Support for non-sequence iterables such as generators is deprecated as of NumPy 1.16 and will raise an error in the future.\n",
      "  if self.run_code(code, result):\n"
     ]
    },
    {
     "data": {
      "text/plain": [
       "(0.0020054176, 0.06903591)"
      ]
     },
     "execution_count": 7,
     "metadata": {},
     "output_type": "execute_result"
    }
   ],
   "source": [
    "fasttext.util.download_model('en', if_exists='ignore')  # English\n",
    "ft = fasttext.load_model('cc.en.300.bin')\n",
    "embeddings_index_3 = {w.lower():ft.get_word_vector(w) for w in ft.get_words()}\n",
    "all_embs_3 = np.stack(embeddings_index_3.values())\n",
    "emb_mean_3 = all_embs_3.mean()\n",
    "emb_std_3 = all_embs_3.std()\n",
    "emb_mean_3, emb_std_3"
   ]
  },
  {
   "cell_type": "code",
   "execution_count": null,
   "metadata": {},
   "outputs": [],
   "source": []
  },
  {
   "cell_type": "markdown",
   "metadata": {},
   "source": [
    "# Problem understanding"
   ]
  },
  {
   "cell_type": "markdown",
   "metadata": {},
   "source": [
    "# Dataset generation"
   ]
  },
  {
   "cell_type": "markdown",
   "metadata": {},
   "source": [
    "# Metrics define"
   ]
  },
  {
   "cell_type": "markdown",
   "metadata": {},
   "source": [
    "# Validation strategy"
   ]
  },
  {
   "cell_type": "markdown",
   "metadata": {},
   "source": [
    "# Data processing (extract useful information)"
   ]
  },
  {
   "cell_type": "code",
   "execution_count": 8,
   "metadata": {},
   "outputs": [],
   "source": [
    "import sys\n",
    "sys.path.append('/home/shanger_lin/python3.6/ShangerUtility/')\n",
    "from spellcheck import Corrector\n",
    "\n",
    "word_freq = '/home/shanger_lin/python3.6/ShangerUtility/frequency_dictionary_en_82_765.txt'\n",
    "C = Corrector(word_freq)"
   ]
  },
  {
   "cell_type": "code",
   "execution_count": 9,
   "metadata": {},
   "outputs": [],
   "source": [
    "import re\n",
    "import textwrap\n",
    "import unicodedata\n",
    "import warnings\n",
    "from string import ascii_letters, digits, punctuation\n",
    "\n",
    "from bs4 import BeautifulSoup\n",
    "\n",
    "warnings.filterwarnings(\"ignore\", category=UserWarning, module='bs4')\n",
    "\n",
    "\n",
    "class BaseFilter:\n",
    "    \"\"\"Base filter class, it does NOTHING.\n",
    "    This class is design for providing ``__repr__`` string, which is useful in\n",
    "    python interactive prompt.\n",
    "    \"\"\"\n",
    "\n",
    "    def __repr__(self):\n",
    "        return '<%s>' % type(self).__name__\n",
    "\n",
    "    def __call__(self, text: str) -> str:\n",
    "        return text\n",
    "\n",
    "\n",
    "class GeneralFilter(BaseFilter):\n",
    "\n",
    "    def __repr__(self):\n",
    "        return '<{clsn} repl=`{repl}`>'.format(clsn=type(self).__name__,\n",
    "                                               repl=self.repl)\n",
    "\n",
    "    def __call__(self, s: str, count: int = 0):\n",
    "        return self.pattern.sub(self.repl, s, count)\n",
    "\n",
    "\n",
    "class EmailFilter(GeneralFilter):\n",
    "    \n",
    "    def __init__(self, replace=' '):\n",
    "        if isinstance(replace, str):\n",
    "            self.repl = replace\n",
    "        else:\n",
    "            self.repl = lambda match: next(replace) # for iterator tag\n",
    "        self.expression = r'[a-zA-Z0-9_.+-]+@[a-zA-Z0-9-]+\\.[a-zA-Z0-9-.]+'\n",
    "        self.pattern = re.compile(self.expression)\n",
    "\n",
    "\n",
    "class URLFilter(GeneralFilter):\n",
    "    \n",
    "    # copied from string_constants.py\n",
    "    schemes = list(map(lambda x: '{}:\\/\\/'.format(x), (\"http\", \"https\", \"ftp\", \"sftp\", \"irc\", \"magnet\", \"file\", \"data\"))) + ['www.']\n",
    "    schemes_lenient = list(map(lambda x: '{}:\\/\\/'.format(x), (\"h?ttp\", \"h?ttps\", \"ftp\", \"sftp\", \"irc\", \"magnet\", \"file\", \"data\"))) + ['www.']\n",
    "\n",
    "    # from RFC\n",
    "    gen_delims = \":/?#[]@\"\n",
    "    sub_delims = \"!$&'()*+;=%\"\n",
    "    reserved = gen_delims + sub_delims\n",
    "    unreserved = ascii_letters + digits + \"-._~\"\n",
    "    valid_uri_characters = reserved + unreserved\n",
    "\n",
    "    def __init__(self, replace=' ', allow_common_typoes=True):\n",
    "        \n",
    "        if isinstance(replace, str):\n",
    "            self.repl = replace\n",
    "        else:\n",
    "            self.repl = lambda match: next(replace) # for iterator tag\n",
    "\n",
    "        if allow_common_typoes:\n",
    "            self.expression = r\"((?:{})[{}]+)\".format(\"|\".join(self.schemes), re.escape(self.valid_uri_characters))\n",
    "        else:\n",
    "            self.expression = r\"((?:{})[{}]+)\".format(\"|\".join(self.schemes_lenient), re.escape(self.valid_uri_characters))\n",
    "        self.pattern = re.compile(self.expression)\n",
    "\n",
    "\n",
    "class EscapeCharFilter(GeneralFilter):\n",
    "\n",
    "    def __init__(self, replace:str=' '):\n",
    "        self.repl = replace\n",
    "        self.expression = r'([{}])'.format('\\r\\n\\t\\v')\n",
    "        self.pattern = re.compile(self.expression)\n",
    "\n",
    "\n",
    "class InvisableCharFilter(GeneralFilter):\n",
    "    \n",
    "    def __init__(self, replace:str='', ):\n",
    "        self.repl = replace\n",
    "        self.expression = r'([{}])'.format(r'\\xa0\\xad\\u200c')\n",
    "        self.pattern = re.compile(self.expression)\n",
    "\n",
    "\n",
    "class KeyWordsFilter(GeneralFilter):\n",
    "    \n",
    "    def __init__(self, replace:str=' ', keywords=('mailto',)):\n",
    "        self.repl = replace\n",
    "        self.expression = r'({})'.format('|'.join(map(lambda x: '({})'.format(x), keywords)))\n",
    "        self.pattern = re.compile(self.expression)\n",
    "\n",
    "\n",
    "class MultiSpacesFilter(GeneralFilter):\n",
    "    \n",
    "    def __init__(self, replace:str=' '):\n",
    "        self.repl = replace\n",
    "        self.expression = r'(\\s+)'\n",
    "        self.pattern = re.compile(self.expression)\n",
    "\n",
    "\n",
    "class FilterNonChars(GeneralFilter):\n",
    "\n",
    "    def __init__(self, replace:str=' '):\n",
    "        self.repl = replace\n",
    "        self.expression = r'(\\W+)'\n",
    "        self.pattern = re.compile(self.expression)\n",
    "        \n",
    "        \n",
    "class HTMLFilter(GeneralFilter):\n",
    "    def __init__(self, replace:str=''):\n",
    "        self.repl = replace\n",
    "        self.expression = \"<[^>]*>\"\n",
    "        self.pattern = re.compile(self.expression)\n",
    "\n",
    "class HTML2Text:\n",
    "    \n",
    "    def __init__(self, filters=('script', 'style', 'meta', 'noscript')):\n",
    "        self.filters = filters\n",
    "\n",
    "    def extract_text_from_html(self, html:str):\n",
    "\n",
    "        soup = BeautifulSoup(html, features='lxml')\n",
    "        for script in soup(self.filters): # remove all javascript and stylesheet code\n",
    "            script.decompose()\n",
    "        return soup.get_text()\n",
    "    \n",
    "    def __call__(self, html:str):\n",
    "        try:\n",
    "            return self.extract_text_from_html(html)\n",
    "        except:\n",
    "            return str()\n",
    "\n",
    "\n",
    "\n",
    "class UnicodeStandarizer:\n",
    "    \n",
    "    def __init__(self, method='NFKC'): # NFD, NFC, NFKD, NFKC\n",
    "        self.method = method\n",
    "    \n",
    "    def __call__(self, text:str):\n",
    "        return unicodedata.normalize(self.method, text)\n",
    "\n",
    "\n",
    "class Stripper:\n",
    "    @staticmethod    \n",
    "    def __call__(text:str):\n",
    "        return text.strip()\n",
    "\n",
    "\n",
    "class Lowercasting:\n",
    "    @staticmethod    \n",
    "    def __call__(text:str):\n",
    "        return text.lower()\n",
    "\n",
    "\n",
    "class SequentialProcessor(BaseFilter):\n",
    "    \"\"\"Sequential processor: A class provide an interface to create integral\n",
    "    processor that would sequentially filter text by the given filters.\n",
    "    Usage::\n",
    "        text_preprocessor = SequentialProcessor(\n",
    "            UnicodeStandarizer(),\n",
    "            HTML2Text(),\n",
    "            InvisableCharFilter(),\n",
    "            LIDFilter(),\n",
    "            Lowercasting(),\n",
    "            KeyWordsFilter(),\n",
    "            MultiSpacesFilter(),\n",
    "            Stripper(),\n",
    "        )\n",
    "    \"\"\"\n",
    "\n",
    "    def __init__(self, *processors):\n",
    "        self.pipeline = processors\n",
    "\n",
    "    def __repr__(self):\n",
    "        if len(self.pipeline) == 1:\n",
    "            children_desc = repr(self.pipeline)\n",
    "        else:\n",
    "            # use textwrap to support nested processors\n",
    "            children_desc = '\\n' + ',\\n'.join(\n",
    "                textwrap.indent(repr(p), ' ' * 4)\n",
    "                for p in self.pipeline)\n",
    "        return '<{clsn} [{child}]>'.format(clsn=type(self).__name__,\n",
    "                                           child=children_desc)\n",
    "\n",
    "    def __call__(self, text: str):\n",
    "        for processor in self.pipeline:\n",
    "            text = processor(text)\n",
    "        return text\n",
    "\n",
    "class GeneralProcessor(SequentialProcessor):\n",
    "    pass\n",
    "\n",
    "class KeepWordSpace(GeneralFilter):\n",
    "    def __init__(self, replace:str=' '):\n",
    "        self.repl = replace\n",
    "        self.expression = r'([^\\w\\s])'\n",
    "        self.pattern = re.compile(self.expression)\n",
    "        \n",
    "class WordModelPreprocessor(GeneralProcessor):\n",
    "    \n",
    "    def __init__(self):\n",
    "        self.pipeline = (UnicodeStandarizer(), HTML2Text(), URLFilter(), EscapeCharFilter(), KeepWordSpace(), Lowercasting(), MultiSpacesFilter(), Stripper())\n",
    "\n",
    "class LIDFilter(GeneralFilter):\n",
    "    \n",
    "    def __init__(self, replace=' '):\n",
    "        self.repl = replace\n",
    "        filters = EmailFilter(), URLFilter(), EscapeCharFilter(), FilterNonChars()\n",
    "        self.expression = '|'.join(list(map(lambda x: x.expression, filters)))\n",
    "        self.pattern = re.compile(self.expression)\n",
    "\n",
    "class TextPreprocessor(GeneralProcessor):\n",
    "    \n",
    "    def __init__(self):\n",
    "        self.pipeline = (UnicodeStandarizer(), HTML2Text(), InvisableCharFilter(), LIDFilter(), Lowercasting(), KeyWordsFilter(), MultiSpacesFilter(), Stripper())"
   ]
  },
  {
   "cell_type": "code",
   "execution_count": 10,
   "metadata": {},
   "outputs": [],
   "source": [
    "class Segmanent:\n",
    "    @staticmethod    \n",
    "    def __call__(text:str):\n",
    "        text = C.sentence_segmanent(text, return_details=False)\n",
    "        return text\n",
    "class SentenceCheck:\n",
    "    @staticmethod    \n",
    "    def __call__(text:str):\n",
    "        text = C.sentence_check(text, return_details=False)[0]\n",
    "        return text\n",
    "\n",
    "class TextPreprocessor(GeneralProcessor):\n",
    "    \n",
    "    def __init__(self):\n",
    "        self.pipeline = (UnicodeStandarizer(), HTML2Text(), URLFilter(), EmailFilter(), InvisableCharFilter(), LIDFilter(), Lowercasting(), KeyWordsFilter(), MultiSpacesFilter(), Stripper(), Segmanent(), SentenceCheck())\n",
    "        \n",
    "class SimpleTextPreprocessor(GeneralProcessor):\n",
    "    \n",
    "    def __init__(self):\n",
    "        self.pipeline = (UnicodeStandarizer(), HTML2Text(), URLFilter(), EmailFilter(), InvisableCharFilter(), LIDFilter(), Lowercasting(), KeyWordsFilter(), MultiSpacesFilter(), Stripper(), SentenceCheck())"
   ]
  },
  {
   "cell_type": "code",
   "execution_count": 11,
   "metadata": {},
   "outputs": [],
   "source": [
    "text_preprocessor = TextPreprocessor()\n",
    "simple_text_preprocessor = SimpleTextPreprocessor()"
   ]
  },
  {
   "cell_type": "code",
   "execution_count": null,
   "metadata": {},
   "outputs": [],
   "source": [
    "from multiprocess import Pool\n",
    "\n",
    "text_preprocessor = TextPreprocessor()\n",
    "with Pool() as pool:\n",
    "    train[COMMENT] = pool.map(simple_text_preprocessor, train[COMMENT])\n",
    "    test[COMMENT] = pool.map(simple_text_preprocessor, test[COMMENT])"
   ]
  },
  {
   "cell_type": "code",
   "execution_count": null,
   "metadata": {},
   "outputs": [],
   "source": [
    "x_train = train[\"comment_text\"].values\n",
    "x_test = test[\"comment_text\"].values"
   ]
  },
  {
   "cell_type": "code",
   "execution_count": null,
   "metadata": {},
   "outputs": [],
   "source": [
    "MAX_TOKENS = 30000\n",
    "MAX_SENTENSE_LEN = 100\n",
    "EMBEDDING_SIZE_1 = all_embs_1.shape[1]\n",
    "EMBEDDING_SIZE_2 = all_embs_2.shape[1]\n",
    "EMBEDDING_SIZE_3 = all_embs_3.shape[1]\n",
    "EMBEDDING_SIZE = EMBEDDING_SIZE_1 + EMBEDDING_SIZE_2 + EMBEDDING_SIZE_3"
   ]
  },
  {
   "cell_type": "code",
   "execution_count": null,
   "metadata": {},
   "outputs": [],
   "source": [
    "x_train = train[\"comment_text\"].values\n",
    "y_train = train[LABELS].values\n",
    "x_test = test[\"comment_text\"].values\n",
    "\n",
    "tokenizer = text.Tokenizer(num_words=MAX_TOKENS)\n",
    "tokenizer.fit_on_texts(list(x_train) + list(x_test)) # is it a proper trick?\n",
    "\n",
    "x_train, x_test = map(tokenizer.texts_to_sequences, [x_train, x_test])\n",
    "x_train, x_test = map(lambda x: sequence.pad_sequences(x, maxlen=MAX_SENTENSE_LEN), [x_train, x_test])\n"
   ]
  },
  {
   "cell_type": "code",
   "execution_count": null,
   "metadata": {},
   "outputs": [],
   "source": [
    "word_index = tokenizer.word_index\n",
    "nb_words = min(MAX_TOKENS, len(word_index))\n",
    "embedding_matrix_1 = np.random.normal(emb_mean_1, emb_std_1, (nb_words, EMBEDDING_SIZE_1))\n",
    "embedding_matrix_2 = np.random.normal(emb_mean_2, emb_std_2, (nb_words, EMBEDDING_SIZE_2))\n",
    "embedding_matrix_3 = np.random.normal(emb_mean_3, emb_std_3, (nb_words, EMBEDDING_SIZE_3))\n",
    "for word, i in word_index.items():\n",
    "    if i >= MAX_TOKENS: continue\n",
    "\n",
    "    embedding_vector_1 = embeddings_index_1.get(word)\n",
    "    if embedding_vector_1 is not None: \n",
    "        embedding_matrix_1[i] = embedding_vector_1\n",
    "        \n",
    "    embedding_vector_2 = embeddings_index_2.get(word)\n",
    "    if embedding_vector_2 is not None: \n",
    "        embedding_matrix_2[i] = embedding_vector_2\n",
    "\n",
    "    embedding_vector_3 = embeddings_index_3.get(word)\n",
    "    if embedding_vector_3 is not None: \n",
    "        embedding_matrix_3[i] = embedding_vector_3"
   ]
  },
  {
   "cell_type": "code",
   "execution_count": null,
   "metadata": {},
   "outputs": [],
   "source": [
    "embedding_matrix_1.shape"
   ]
  },
  {
   "cell_type": "code",
   "execution_count": null,
   "metadata": {},
   "outputs": [],
   "source": [
    "embedding_matrix_2.shape"
   ]
  },
  {
   "cell_type": "code",
   "execution_count": null,
   "metadata": {},
   "outputs": [],
   "source": [
    "embedding_matrix_3.shape"
   ]
  },
  {
   "cell_type": "code",
   "execution_count": 23,
   "metadata": {},
   "outputs": [
    {
     "data": {
      "text/plain": [
       "(30000, 900)"
      ]
     },
     "execution_count": 23,
     "metadata": {},
     "output_type": "execute_result"
    }
   ],
   "source": [
    "embedding_matrix = np.concatenate((embedding_matrix_1, embedding_matrix_2, embedding_matrix_3), axis=1)\n",
    "embedding_matrix.shape"
   ]
  },
  {
   "cell_type": "markdown",
   "metadata": {},
   "source": [
    "# Data understanding & visualization"
   ]
  },
  {
   "cell_type": "markdown",
   "metadata": {},
   "source": [
    "# De-noise (no drop data)"
   ]
  },
  {
   "cell_type": "markdown",
   "metadata": {},
   "source": [
    "# Feature engineering"
   ]
  },
  {
   "cell_type": "markdown",
   "metadata": {},
   "source": [
    "# Offline augmentation"
   ]
  },
  {
   "cell_type": "markdown",
   "metadata": {},
   "source": [
    "# Standarization"
   ]
  },
  {
   "cell_type": "markdown",
   "metadata": {},
   "source": [
    "# Scaling"
   ]
  },
  {
   "cell_type": "markdown",
   "metadata": {},
   "source": [
    "# Normalization"
   ]
  },
  {
   "cell_type": "markdown",
   "metadata": {},
   "source": [
    "# Feature selection"
   ]
  },
  {
   "cell_type": "markdown",
   "metadata": {},
   "source": [
    "# Data selection"
   ]
  },
  {
   "cell_type": "markdown",
   "metadata": {},
   "source": [
    "# Optimization"
   ]
  },
  {
   "cell_type": "code",
   "execution_count": null,
   "metadata": {},
   "outputs": [],
   "source": [
    "def bert_encode(texts, tokenizer, max_len=512):\n",
    "    all_tokens = []\n",
    "    all_masks = []\n",
    "    all_segments = []\n",
    "    \n",
    "    for text in texts:\n",
    "        text = tokenizer.tokenize(text)\n",
    "            \n",
    "        text = text[:max_len-2]\n",
    "        input_sequence = [\"[CLS]\"] + text + [\"[SEP]\"]\n",
    "        pad_len = max_len - len(input_sequence)\n",
    "        \n",
    "        tokens = tokenizer.convert_tokens_to_ids(input_sequence)\n",
    "        tokens += [0] * pad_len\n",
    "        pad_masks = [1] * len(input_sequence) + [0] * pad_len\n",
    "        segment_ids = [0] * max_len\n",
    "        \n",
    "        all_tokens.append(tokens)\n",
    "        all_masks.append(pad_masks)\n",
    "        all_segments.append(segment_ids)\n",
    "    \n",
    "    return np.array(all_tokens), np.array(all_masks), np.array(all_segments)"
   ]
  },
  {
   "cell_type": "code",
   "execution_count": 28,
   "metadata": {},
   "outputs": [],
   "source": [
    "module_url = \"https://tfhub.dev/tensorflow/bert_en_uncased_L-24_H-1024_A-16/1\"\n",
    "bert_layer = hub.KerasLayer(module_url, trainable=False)\n",
    "\n",
    "vocab_file = bert_layer.resolved_object.vocab_file.asset_path.numpy()\n",
    "do_lower_case = bert_layer.resolved_object.do_lower_case.numpy()\n",
    "tokenizer = tokenization.FullTokenizer(vocab_file, do_lower_case)"
   ]
  },
  {
   "cell_type": "code",
   "execution_count": 38,
   "metadata": {},
   "outputs": [],
   "source": [
    "MAX_LEN = 100"
   ]
  },
  {
   "cell_type": "code",
   "execution_count": 29,
   "metadata": {},
   "outputs": [],
   "source": [
    "train_input = bert_encode(train[COMMENT].values, tokenizer, max_len=MAX_LEN)\n",
    "test_input = bert_encode(test[COMMENT].values, tokenizer, max_len=MAX_LEN)\n",
    "train_output = train[LABELS].values"
   ]
  },
  {
   "cell_type": "code",
   "execution_count": 30,
   "metadata": {},
   "outputs": [],
   "source": [
    "import tokenization\n",
    "module_url = \"https://tfhub.dev/tensorflow/bert_en_uncased_L-24_H-1024_A-16/1\"\n",
    "bert_layer = hub.KerasLayer(module_url, trainable=False)\n",
    "\n",
    "vocab_file = bert_layer.resolved_object.vocab_file.asset_path.numpy()\n",
    "do_lower_case = bert_layer.resolved_object.do_lower_case.numpy()\n",
    "tokenizer = tokenization.FullTokenizer(vocab_file, do_lower_case)"
   ]
  },
  {
   "cell_type": "code",
   "execution_count": null,
   "metadata": {},
   "outputs": [],
   "source": [
    "# def build_model(bert_layer, MAX_LEN=512):\n",
    "#     input_word_ids = Input(shape=(MAX_LEN,), dtype=tf.int32, name=\"input_word_ids\")\n",
    "#     input_mask = Input(shape=(MAX_LEN,), dtype=tf.int32, name=\"input_mask\")\n",
    "#     segment_ids = Input(shape=(MAX_LEN,), dtype=tf.int32, name=\"segment_ids\")\n",
    "\n",
    "#     _, sequence_output = bert_layer([input_word_ids, input_mask, segment_ids])\n",
    "#     clf_output = sequence_output[:, 0, :]\n",
    "#     out = Dense(len(LABELS), activation='sigmoid')(clf_output)\n",
    "    \n",
    "#     model = Model(inputs=[input_word_ids, input_mask, segment_ids], outputs=out)\n",
    "#     model.compile(Adam(lr=3e-4), loss='binary_crossentropy', metrics=['acc'])\n",
    "\n",
    "#     return model"
   ]
  },
  {
   "cell_type": "code",
   "execution_count": null,
   "metadata": {},
   "outputs": [],
   "source": [
    "# model = build_model(bert_layer, MAX_LEN=100)\n",
    "# model.summary()\n",
    "\n",
    "# checkpoint = ModelCheckpoint('bert_model.h5', monitor='val_loss', save_best_only=True)\n",
    "# earlystop = keras.callbacks.EarlyStopping(monitor='val_loss', patience=1,  verbose=1)\n",
    "# hist = model.fit(\n",
    "#     train_input, \n",
    "#     train_output,\n",
    "#     validation_split=0.05,\n",
    "#     epochs=100,\n",
    "#     shuffle=True,\n",
    "#     callbacks=[checkpoint, earlystop],\n",
    "#     batch_size=256,\n",
    "#     verbose=1\n",
    "# )"
   ]
  },
  {
   "cell_type": "code",
   "execution_count": null,
   "metadata": {},
   "outputs": [
    {
     "name": "stdout",
     "output_type": "stream",
     "text": [
      "Epoch 1/100\n"
     ]
    },
    {
     "name": "stderr",
     "output_type": "stream",
     "text": [
      "/home/shanger_lin/.pyenv/versions/3.6.4/lib/python3.6/site-packages/tensorflow/python/framework/indexed_slices.py:432: UserWarning: Converting sparse IndexedSlices to a dense Tensor of unknown shape. This may consume a large amount of memory.\n",
      "  \"Converting sparse IndexedSlices to a dense Tensor of unknown shape. \"\n"
     ]
    },
    {
     "name": "stdout",
     "output_type": "stream",
     "text": [
      "248/593 [===========>..................] - ETA: 11:20:59 - loss: 13.1617 - acc: 0.6289"
     ]
    }
   ],
   "source": [
    "\n",
    "input_word_ids = Input(shape=(MAX_LEN,), dtype=tf.int32, name=\"input_word_ids\")\n",
    "input_mask = Input(shape=(MAX_LEN,), dtype=tf.int32, name=\"input_mask\")\n",
    "segment_ids = Input(shape=(MAX_LEN,), dtype=tf.int32, name=\"segment_ids\")\n",
    "_, sequence_output = bert_layer([input_word_ids, input_mask, segment_ids])\n",
    "clf_output = sequence_output[:, 0, :]\n",
    "\n",
    "x_bert = keras.layers.Dense(MAX_LEN, activation='relu')(clf_output)\n",
    "x_bert = keras.layers.Dropout(0.2)(x_bert)\n",
    "x_bert = keras.layers.Dense(MAX_LEN, activation='relu')(x_bert)\n",
    "\n",
    "\n",
    "\n",
    "model_input = keras.Input(shape=(MAX_SENTENSE_LEN, ))\n",
    "x = keras.layers.Embedding(MAX_TOKENS, EMBEDDING_SIZE, mask_zero=True, weights=[embedding_matrix], embeddings_regularizer=l2(1e-5))(model_input)\n",
    "x = keras.layers.GRU(512, return_sequences=True, activation=\"relu\", kernel_regularizer=l2(1e-5))(x)\n",
    "x = keras.layers.SpatialDropout1D(0.2)(x)\n",
    "x = keras.layers.GRU(512, return_sequences=False, activation=\"relu\", kernel_regularizer=l2(1e-5))(x)\n",
    "x = keras.layers.Dropout(0.2)(x)\n",
    "x = keras.layers.Dense(512, activation=\"relu\")(x)\n",
    "\n",
    "\n",
    "x = tf.keras.layers.concatenate([x, x_bert], axis=-1)\n",
    "x = keras.layers.Dropout(0.2)(x)\n",
    "x = keras.layers.Dense(128, activation=\"relu\")(x)\n",
    "x = keras.layers.Dropout(0.2)(x)\n",
    "x = keras.layers.Dense(64, activation=\"relu\")(x)\n",
    "x = keras.layers.Dropout(0.2)(x)\n",
    "x = keras.layers.Dense(32, activation=\"relu\")(x)\n",
    "\n",
    "\n",
    "model_output = keras.layers.Dense(len(LABELS), activation=\"sigmoid\")(x)\n",
    "\n",
    "\n",
    "model = Model(inputs=[model_input, input_word_ids, input_mask, segment_ids], outputs=model_output)\n",
    "\n",
    "# model = keras.Model(inputs=model_input, outputs=model_output)\n",
    "model.compile(keras.optimizers.Adam(3e-4), loss='binary_crossentropy', metrics=['acc'])\n",
    "\n",
    "\n",
    "checkpoint = ModelCheckpoint('bert_model.h5', monitor='val_loss', save_best_only=True)\n",
    "earlystop = keras.callbacks.EarlyStopping(monitor='val_loss', patience=1,  verbose=1)\n",
    "\n",
    "hist = model.fit([x_train]+list(train_input), \n",
    "                 y_train, \n",
    "                 batch_size=256,\n",
    "                 shuffle=True,\n",
    "                 epochs=100, \n",
    "                 validation_split=0.05,\n",
    "                 callbacks=[checkpoint, earlystop], \n",
    "                 verbose=1)\n",
    "\n",
    "y_pred = model.predict(x_test)\n",
    "submission[LABELS] = y_pred\n",
    "submission.to_csv('161.submission.csv', index=False)\n",
    "\n",
    "# ?"
   ]
  },
  {
   "cell_type": "code",
   "execution_count": null,
   "metadata": {},
   "outputs": [],
   "source": []
  },
  {
   "cell_type": "code",
   "execution_count": 35,
   "metadata": {},
   "outputs": [
    {
     "data": {
      "text/plain": [
       "(159571, 6)"
      ]
     },
     "execution_count": 35,
     "metadata": {},
     "output_type": "execute_result"
    }
   ],
   "source": [
    "y_train.shape"
   ]
  },
  {
   "cell_type": "code",
   "execution_count": 36,
   "metadata": {},
   "outputs": [
    {
     "data": {
      "text/plain": [
       "(159571, 6)"
      ]
     },
     "execution_count": 36,
     "metadata": {},
     "output_type": "execute_result"
    }
   ],
   "source": [
    "train_output.shape"
   ]
  },
  {
   "cell_type": "code",
   "execution_count": null,
   "metadata": {},
   "outputs": [],
   "source": [
    "model_input = keras.Input(shape=(MAX_SENTENSE_LEN, ))\n",
    "x = keras.layers.Embedding(MAX_TOKENS, EMBEDDING_SIZE, mask_zero=True, weights=[embedding_matrix], embeddings_regularizer=l2(1e-5))(model_input)\n",
    "x = keras.layers.Bidirectional(keras.layers.GRU(64, return_sequences=True, activation=\"relu\", recurrent_dropout=0.1))(x)\n",
    "x = keras.layers.SpatialDropout1D(0.2)(x)\n",
    "x = keras.layers.Bidirectional(keras.layers.GRU(32, return_sequences=True, activation=\"relu\", recurrent_dropout=0.1))(x)\n",
    "x = keras.layers.GlobalMaxPool1D()(x)\n",
    "x = keras.layers.Dense(32, activation=\"relu\")(x)\n",
    "model_output = keras.layers.Dense(len(LABELS), activation=\"sigmoid\")(x)\n",
    "\n",
    "model = keras.Model(inputs=model_input, outputs=model_output)\n",
    "model.compile(keras.optimizers.Adam(3e-4), loss='binary_crossentropy', metrics=['acc'])\n",
    "\n",
    "hist = model.fit(x_train, \n",
    "                 y_train, \n",
    "                 batch_size=256,\n",
    "                 shuffle=True,\n",
    "                 epochs=100, \n",
    "                 validation_split=0.05,\n",
    "                 callbacks=[keras.callbacks.EarlyStopping(monitor='val_loss',\n",
    "                                                          patience=1, \n",
    "                                                          verbose=1)], \n",
    "                 verbose=1)\n",
    "\n",
    "y_pred = model.predict(x_test)\n",
    "submission[LABELS] = y_pred\n",
    "submission.to_csv('162.submission.csv', index=False)\n",
    "\n",
    "# ?"
   ]
  },
  {
   "cell_type": "code",
   "execution_count": null,
   "metadata": {},
   "outputs": [],
   "source": [
    "model_input = keras.Input(shape=(MAX_SENTENSE_LEN, ))\n",
    "x = keras.layers.Embedding(MAX_TOKENS, EMBEDDING_SIZE, weights=[embedding_matrix])(model_input)\n",
    "x = keras.layers.Bidirectional(keras.layers.GRU(64, return_sequences=True, activation=\"relu\", recurrent_dropout=0.1))(x)\n",
    "x = keras.layers.SpatialDropout1D(0.1)(x)\n",
    "x = keras.layers.Bidirectional(keras.layers.GRU(32, return_sequences=True, activation=\"relu\", recurrent_dropout=0.1))(x)\n",
    "x = keras.layers.GlobalMaxPool1D()(x)\n",
    "x = keras.layers.Dense(32, activation=\"relu\")(x)\n",
    "model_output = keras.layers.Dense(len(LABELS), activation=\"sigmoid\")(x)\n",
    "\n",
    "model = keras.Model(inputs=model_input, outputs=model_output)\n",
    "model.compile(keras.optimizers.Adam(3e-4), loss='binary_crossentropy', metrics=['acc'])\n",
    "\n",
    "hist = model.fit(x_train, \n",
    "                 y_train, \n",
    "                 batch_size=256,\n",
    "                 shuffle=True,\n",
    "                 epochs=100, \n",
    "                 validation_split=0.05,\n",
    "                 callbacks=[keras.callbacks.EarlyStopping(monitor='val_loss',\n",
    "                                                          patience=1, \n",
    "                                                          verbose=1)], \n",
    "                 verbose=1)\n",
    "\n",
    "y_pred = model.predict(x_test)\n",
    "submission[LABELS] = y_pred\n",
    "submission.to_csv('163.submission.csv', index=False)\n",
    "\n",
    "# ?"
   ]
  },
  {
   "cell_type": "code",
   "execution_count": null,
   "metadata": {},
   "outputs": [],
   "source": [
    "model_input = keras.Input(shape=(MAX_SENTENSE_LEN, ))\n",
    "x = keras.layers.Embedding(MAX_TOKENS, EMBEDDING_SIZE, weights=[embedding_matrix])(model_input)\n",
    "x = keras.layers.Bidirectional(keras.layers.GRU(64, return_sequences=True, activation=\"relu\", recurrent_dropout=0.1))(x)\n",
    "x = keras.layers.SpatialDropout1D(0.1)(x)\n",
    "x = keras.layers.Bidirectional(keras.layers.GRU(32, return_sequences=True, activation=\"relu\", recurrent_dropout=0.1))(x)\n",
    "x = keras.layers.GlobalMaxPool1D()(x)\n",
    "x = keras.layers.Dense(32, activation=\"relu\")(x)\n",
    "model_output = keras.layers.Dense(len(LABELS), activation=\"sigmoid\")(x)\n",
    "\n",
    "model = keras.Model(inputs=model_input, outputs=model_output)\n",
    "model.compile(keras.optimizers.Adam(3e-4), loss='binary_crossentropy', metrics=['acc'])\n",
    "\n",
    "hist = model.fit(x_train, \n",
    "                 y_train, \n",
    "                 batch_size=32,\n",
    "                 shuffle=True,\n",
    "                 epochs=100, \n",
    "                 validation_split=0.05,\n",
    "                 callbacks=[keras.callbacks.EarlyStopping(monitor='val_loss',\n",
    "                                                          patience=1, \n",
    "                                                          verbose=1)], \n",
    "                 verbose=1)\n",
    "\n",
    "y_pred = model.predict(x_test)\n",
    "submission[LABELS] = y_pred\n",
    "submission.to_csv('164.submission.csv', index=False)\n",
    "\n",
    "# ?"
   ]
  },
  {
   "cell_type": "code",
   "execution_count": null,
   "metadata": {},
   "outputs": [],
   "source": [
    "model_input = keras.Input(shape=(MAX_SENTENSE_LEN,))\n",
    "x = keras.layers.Embedding(MAX_TOKENS, EMBEDDING_SIZE, weights=[embedding_matrix])(model_input)\n",
    "x = keras.layers.Bidirectional(keras.layers.LSTM(50, return_sequences=True, dropout=0.1, recurrent_dropout=0.1))(x)\n",
    "x = keras.layers.GlobalMaxPool1D()(x)\n",
    "x = keras.layers.Dense(50, activation=\"relu\")(x)\n",
    "x = keras.layers.Dropout(0.1)(x)\n",
    "x = keras.layers.Dense(6, activation=\"sigmoid\")(x)\n",
    "model = keras.Model(inputs=model_input, outputs=x)\n",
    "model.compile(loss='binary_crossentropy', optimizer='adam', metrics=['accuracy'])\n",
    "\n",
    "hist = model.fit(x_train, \n",
    "                 y_train, \n",
    "                 batch_size=256,\n",
    "                 shuffle=True,\n",
    "                 epochs=100, \n",
    "                 validation_split=0.05,\n",
    "                 callbacks=[keras.callbacks.EarlyStopping(monitor='val_loss',\n",
    "                                                          patience=1, \n",
    "                                                          verbose=1)], \n",
    "                 verbose=1)\n",
    "\n",
    "y_pred = model.predict(x_test)\n",
    "submission[LABELS] = y_pred\n",
    "submission.to_csv('165.submission.csv', index=False)\n",
    "\n",
    "# ?"
   ]
  },
  {
   "cell_type": "code",
   "execution_count": null,
   "metadata": {},
   "outputs": [],
   "source": [
    "model_input = keras.Input(shape=(MAX_SENTENSE_LEN,))\n",
    "x = keras.layers.Embedding(MAX_TOKENS, EMBEDDING_SIZE, weights=[embedding_matrix])(model_input)\n",
    "x = keras.layers.Bidirectional(keras.layers.LSTM(50, return_sequences=True, dropout=0.1, recurrent_dropout=0.1))(x)\n",
    "x = keras.layers.GlobalMaxPool1D()(x)\n",
    "x = keras.layers.Dense(50, activation=\"relu\")(x)\n",
    "x = keras.layers.Dropout(0.1)(x)\n",
    "x = keras.layers.Dense(6, activation=\"sigmoid\")(x)\n",
    "model = keras.Model(inputs=model_input, outputs=x)\n",
    "model.compile(loss='binary_crossentropy', optimizer='adam', metrics=['accuracy'])\n",
    "\n",
    "hist = model.fit(x_train, \n",
    "                 y_train, \n",
    "                 batch_size=32,\n",
    "                 shuffle=True,\n",
    "                 epochs=100, \n",
    "                 validation_split=0.05,\n",
    "                 callbacks=[keras.callbacks.EarlyStopping(monitor='val_loss',\n",
    "                                                          patience=1, \n",
    "                                                          verbose=1)], \n",
    "                 verbose=1)\n",
    "\n",
    "y_pred = model.predict(x_test)\n",
    "submission[LABELS] = y_pred\n",
    "submission.to_csv('166.submission.csv', index=False)\n",
    "# ?"
   ]
  },
  {
   "cell_type": "markdown",
   "metadata": {},
   "source": [
    "# Parameter tuning"
   ]
  },
  {
   "cell_type": "markdown",
   "metadata": {},
   "source": [
    "# Online augmentation"
   ]
  },
  {
   "cell_type": "markdown",
   "metadata": {},
   "source": [
    "# Model selection / blending"
   ]
  },
  {
   "cell_type": "markdown",
   "metadata": {},
   "source": [
    "# Post-processing"
   ]
  },
  {
   "cell_type": "markdown",
   "metadata": {},
   "source": [
    "# Evaluation"
   ]
  },
  {
   "cell_type": "markdown",
   "metadata": {},
   "source": [
    "# Reasoning"
   ]
  },
  {
   "cell_type": "markdown",
   "metadata": {},
   "source": [
    "# Monitoring"
   ]
  },
  {
   "cell_type": "code",
   "execution_count": null,
   "metadata": {},
   "outputs": [],
   "source": []
  },
  {
   "cell_type": "code",
   "execution_count": null,
   "metadata": {},
   "outputs": [],
   "source": []
  },
  {
   "cell_type": "code",
   "execution_count": null,
   "metadata": {},
   "outputs": [],
   "source": []
  },
  {
   "cell_type": "code",
   "execution_count": null,
   "metadata": {},
   "outputs": [],
   "source": []
  },
  {
   "cell_type": "code",
   "execution_count": null,
   "metadata": {},
   "outputs": [],
   "source": []
  },
  {
   "cell_type": "code",
   "execution_count": null,
   "metadata": {},
   "outputs": [],
   "source": []
  },
  {
   "cell_type": "code",
   "execution_count": null,
   "metadata": {},
   "outputs": [],
   "source": []
  }
 ],
 "metadata": {
  "kernelspec": {
   "display_name": "Python 3",
   "language": "python",
   "name": "python3"
  },
  "language_info": {
   "codemirror_mode": {
    "name": "ipython",
    "version": 3
   },
   "file_extension": ".py",
   "mimetype": "text/x-python",
   "name": "python",
   "nbconvert_exporter": "python",
   "pygments_lexer": "ipython3",
   "version": "3.6.4"
  }
 },
 "nbformat": 4,
 "nbformat_minor": 4
}
