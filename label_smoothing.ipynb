{
 "cells": [
  {
   "cell_type": "code",
   "execution_count": 1,
   "metadata": {},
   "outputs": [],
   "source": [
    "# !curl -O https://download.microsoft.com/download/3/E/1/3E1C3F21-ECDB-4869-8368-6DEBA77B919F/kagglecatsanddogs_3367a.zip\n",
    "# !unzip -q kagglecatsanddogs_3367a.zip\n",
    "# !ls PetImages"
   ]
  },
  {
   "cell_type": "code",
   "execution_count": 2,
   "metadata": {},
   "outputs": [],
   "source": [
    "import tensorflow as tf\n",
    "from tensorflow import keras\n",
    "from tensorflow.keras import layers"
   ]
  },
  {
   "cell_type": "code",
   "execution_count": 3,
   "metadata": {},
   "outputs": [
    {
     "name": "stdout",
     "output_type": "stream",
     "text": [
      "Found 23410 files belonging to 2 classes.\n",
      "Using 18728 files for training.\n",
      "Found 23410 files belonging to 2 classes.\n",
      "Using 4682 files for validation.\n"
     ]
    }
   ],
   "source": [
    "image_size = (32, 32)\n",
    "batch_size = 32\n",
    "\n",
    "train_ds = tf.keras.preprocessing.image_dataset_from_directory(\n",
    "    \"PetImages\",\n",
    "    validation_split=0.2,\n",
    "    subset=\"training\",\n",
    "    seed=1337,\n",
    "    image_size=image_size,\n",
    "    batch_size=batch_size,\n",
    ")\n",
    "val_ds = tf.keras.preprocessing.image_dataset_from_directory(\n",
    "    \"PetImages\",\n",
    "    validation_split=0.2,\n",
    "    subset=\"validation\",\n",
    "    seed=1337,\n",
    "    image_size=image_size,\n",
    "    batch_size=batch_size,\n",
    ")"
   ]
  },
  {
   "cell_type": "code",
   "execution_count": 4,
   "metadata": {},
   "outputs": [],
   "source": [
    "train_ds = train_ds.prefetch(buffer_size=32)\n",
    "val_ds = val_ds.prefetch(buffer_size=32)"
   ]
  },
  {
   "cell_type": "code",
   "execution_count": 5,
   "metadata": {},
   "outputs": [],
   "source": [
    "def make_model(input_shape, num_classes, dual=False):\n",
    "    inputs = keras.Input(shape=input_shape)\n",
    "    # Image augmentation block\n",
    "    x = inputs\n",
    "\n",
    "    # Entry block\n",
    "    x = layers.experimental.preprocessing.Rescaling(1.0 / 255)(x)\n",
    "    x = layers.Conv2D(32, 3, strides=2, padding=\"same\")(x)\n",
    "    x = layers.BatchNormalization()(x)\n",
    "    x = layers.Activation(\"relu\")(x)\n",
    "\n",
    "    x = layers.Conv2D(64, 3, padding=\"same\")(x)\n",
    "    x = layers.BatchNormalization()(x)\n",
    "    x = layers.Activation(\"relu\")(x)\n",
    "\n",
    "    previous_block_activation = x  # Set aside residual\n",
    "\n",
    "    for size in [128, 256, 512, 728]:\n",
    "        x = layers.Activation(\"relu\")(x)\n",
    "        x = layers.SeparableConv2D(size, 3, padding=\"same\")(x)\n",
    "        x = layers.BatchNormalization()(x)\n",
    "\n",
    "        x = layers.Activation(\"relu\")(x)\n",
    "        x = layers.SeparableConv2D(size, 3, padding=\"same\")(x)\n",
    "        x = layers.BatchNormalization()(x)\n",
    "        \n",
    "        if dual:\n",
    "            x = layers.concatenate([layers.MaxPooling2D(3, strides=2, padding=\"same\")(x),\n",
    "                                    layers.AveragePooling2D(3, strides=2, padding=\"same\")(x)])\n",
    "            residual = layers.Conv2D(size*2, 1, strides=2, padding=\"same\")(\n",
    "            previous_block_activation\n",
    "        )\n",
    "        else:\n",
    "            x = layers.MaxPooling2D(3, strides=2, padding=\"same\")(x)\n",
    "            residual = layers.Conv2D(size, 1, strides=2, padding=\"same\")(\n",
    "                previous_block_activation\n",
    "        )\n",
    "        \n",
    "        \n",
    "        # Project residual\n",
    "        x = layers.add([x, residual])  # Add back residual\n",
    "        previous_block_activation = x  # Set aside next residual\n",
    "\n",
    "    x = layers.SeparableConv2D(1024, 3, padding=\"same\")(x)\n",
    "    x = layers.BatchNormalization()(x)\n",
    "    x = layers.Activation(\"relu\")(x)\n",
    "\n",
    "    x = layers.GlobalAveragePooling2D()(x)\n",
    "    if num_classes == 2:\n",
    "        activation = \"sigmoid\"\n",
    "        units = 1\n",
    "    else:\n",
    "        activation = \"softmax\"\n",
    "        units = num_classes\n",
    "\n",
    "    x = layers.Dropout(0.5)(x)\n",
    "    outputs = layers.Dense(units, activation=activation)(x)\n",
    "    return keras.Model(inputs, outputs)\n",
    "\n",
    "\n"
   ]
  },
  {
   "cell_type": "code",
   "execution_count": 6,
   "metadata": {},
   "outputs": [],
   "source": [
    "model = make_model(input_shape=image_size + (3,), num_classes=2, dual=False)\n",
    "keras.utils.plot_model(model, show_shapes=True)\n",
    "\n",
    "epochs = 50\n",
    "model = make_model(input_shape=image_size + (3,), num_classes=2)\n",
    "model.compile(\n",
    "    optimizer=keras.optimizers.Adam(3e-4),\n",
    "    loss=keras.losses.BinaryCrossentropy(label_smoothing=0.0),\n",
    "    metrics=[\"accuracy\"],\n",
    ")\n",
    "baseline_history = model.fit(train_ds, epochs=epochs, validation_data=val_ds, verbose=0)"
   ]
  },
  {
   "cell_type": "code",
   "execution_count": 7,
   "metadata": {},
   "outputs": [],
   "source": [
    "model = make_model(input_shape=image_size + (3,), num_classes=2, dual=False)\n",
    "keras.utils.plot_model(model, show_shapes=True)\n",
    "\n",
    "epochs = 50\n",
    "model = make_model(input_shape=image_size + (3,), num_classes=2)\n",
    "model.compile(\n",
    "    optimizer=keras.optimizers.Adam(3e-4),\n",
    "    loss=keras.losses.BinaryCrossentropy(label_smoothing=1.0),\n",
    "    metrics=[\"accuracy\"],\n",
    ")\n",
    "ls10_history = model.fit(train_ds, epochs=epochs, validation_data=val_ds, verbose=0)"
   ]
  },
  {
   "cell_type": "code",
   "execution_count": 8,
   "metadata": {},
   "outputs": [],
   "source": [
    "model = make_model(input_shape=image_size + (3,), num_classes=2, dual=False)\n",
    "keras.utils.plot_model(model, show_shapes=True)\n",
    "\n",
    "epochs = 50\n",
    "model = make_model(input_shape=image_size + (3,), num_classes=2)\n",
    "model.compile(\n",
    "    optimizer=keras.optimizers.Adam(3e-4),\n",
    "    loss=keras.losses.BinaryCrossentropy(label_smoothing=0.3),\n",
    "    metrics=[\"accuracy\"],\n",
    ")\n",
    "ls03_history = model.fit(train_ds, epochs=epochs, validation_data=val_ds, verbose=0)"
   ]
  },
  {
   "cell_type": "code",
   "execution_count": null,
   "metadata": {},
   "outputs": [],
   "source": [
    "model = make_model(input_shape=image_size + (3,), num_classes=2, dual=False)\n",
    "keras.utils.plot_model(model, show_shapes=True)\n",
    "\n",
    "epochs = 50\n",
    "model = make_model(input_shape=image_size + (3,), num_classes=2)\n",
    "model.compile(\n",
    "    optimizer=keras.optimizers.Adam(3e-4),\n",
    "    loss=keras.losses.BinaryCrossentropy(label_smoothing=0.1),\n",
    "    metrics=[\"accuracy\"],\n",
    ")\n",
    "ls01_history = model.fit(train_ds, epochs=epochs, validation_data=val_ds, verbose=0)"
   ]
  },
  {
   "cell_type": "code",
   "execution_count": null,
   "metadata": {},
   "outputs": [],
   "source": [
    "model = make_model(input_shape=image_size + (3,), num_classes=2, dual=False)\n",
    "keras.utils.plot_model(model, show_shapes=True)\n",
    "\n",
    "epochs = 50\n",
    "model = make_model(input_shape=image_size + (3,), num_classes=2)\n",
    "model.compile(\n",
    "    optimizer=keras.optimizers.Adam(3e-4),\n",
    "    loss=keras.losses.BinaryCrossentropy(label_smoothing=0.03),\n",
    "    metrics=[\"accuracy\"],\n",
    ")\n",
    "ls003_history = model.fit(train_ds, epochs=epochs, validation_data=val_ds, verbose=0)"
   ]
  },
  {
   "cell_type": "code",
   "execution_count": null,
   "metadata": {},
   "outputs": [],
   "source": [
    "model = make_model(input_shape=image_size + (3,), num_classes=2, dual=False)\n",
    "keras.utils.plot_model(model, show_shapes=True)\n",
    "\n",
    "epochs = 50\n",
    "model = make_model(input_shape=image_size + (3,), num_classes=2)\n",
    "model.compile(\n",
    "    optimizer=keras.optimizers.Adam(3e-4),\n",
    "    loss=keras.losses.BinaryCrossentropy(label_smoothing=0.01),\n",
    "    metrics=[\"accuracy\"],\n",
    ")\n",
    "ls001_history = model.fit(train_ds, epochs=epochs, validation_data=val_ds, verbose=0)"
   ]
  },
  {
   "cell_type": "code",
   "execution_count": null,
   "metadata": {},
   "outputs": [],
   "source": [
    "def name(var):\n",
    "    match = [k for k, v in globals().items() if v == var]\n",
    "    return match[0].replace('_history', '') if match else None\n",
    "\n",
    "def plot(metric, *history):\n",
    "    \n",
    "    getter = metric.replace('train_', '')\n",
    "    \n",
    "    for h in history:\n",
    "        plt.plot(h.history['{}'.format(getter)])\n",
    "    plt.title('{}, batch size: 32'.format(metric).upper())\n",
    "    plt.ylabel('{}'.format(metric))\n",
    "    plt.xlabel('epoch')\n",
    "    plt.legend(list(map(name, history)), loc='upper left')\n",
    "    plt.show()"
   ]
  },
  {
   "cell_type": "code",
   "execution_count": null,
   "metadata": {},
   "outputs": [],
   "source": [
    "for metric in ['train_loss', 'val_loss', 'train_accuracy', 'val_accuracy']:\n",
    "    plot(metric, baseline_history, ls10_history, ls03_history, ls01_history, ls003_history, ls001_history)"
   ]
  },
  {
   "cell_type": "code",
   "execution_count": null,
   "metadata": {},
   "outputs": [],
   "source": []
  },
  {
   "cell_type": "code",
   "execution_count": null,
   "metadata": {},
   "outputs": [],
   "source": []
  },
  {
   "cell_type": "code",
   "execution_count": null,
   "metadata": {},
   "outputs": [],
   "source": []
  },
  {
   "cell_type": "code",
   "execution_count": null,
   "metadata": {},
   "outputs": [],
   "source": []
  }
 ],
 "metadata": {
  "kernelspec": {
   "display_name": "Python 3",
   "language": "python",
   "name": "python3"
  },
  "language_info": {
   "codemirror_mode": {
    "name": "ipython",
    "version": 3
   },
   "file_extension": ".py",
   "mimetype": "text/x-python",
   "name": "python",
   "nbconvert_exporter": "python",
   "pygments_lexer": "ipython3",
   "version": "3.6.4"
  }
 },
 "nbformat": 4,
 "nbformat_minor": 4
}
